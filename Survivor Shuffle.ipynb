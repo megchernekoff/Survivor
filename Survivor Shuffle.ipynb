{
 "cells": [
  {
   "cell_type": "code",
   "execution_count": 1,
   "id": "55d99af7",
   "metadata": {},
   "outputs": [],
   "source": [
    "import requests\n",
    "import random\n",
    "import re\n",
    "import pandas as pd\n",
    "from bs4 import BeautifulSoup as bs\n",
    "from selenium import webdriver\n",
    "from selenium.webdriver.chrome.options import Options\n",
    "from selenium.webdriver.common.by import By\n",
    "from io import StringIO"
   ]
  },
  {
   "cell_type": "code",
   "execution_count": 2,
   "id": "251e2b8c",
   "metadata": {},
   "outputs": [],
   "source": [
    "import warnings\n",
    "warnings.filterwarnings(\"ignore\")"
   ]
  },
  {
   "cell_type": "code",
   "execution_count": 3,
   "id": "4f747f04",
   "metadata": {},
   "outputs": [],
   "source": [
    "chrome_options = Options()\n",
    "chrome_options.add_argument(\"--disable-single-click-autofill\")\n",
    "chrome_options.add_argument(\"--disable-javascript\")\n",
    "chrome_options.add_argument(\"no-sandbox\")"
   ]
  },
  {
   "cell_type": "code",
   "execution_count": 4,
   "id": "a91eacda",
   "metadata": {},
   "outputs": [],
   "source": [
    "NUM = 12"
   ]
  },
  {
   "cell_type": "code",
   "execution_count": 5,
   "id": "37718f6d",
   "metadata": {},
   "outputs": [
    {
     "ename": "SessionNotCreatedException",
     "evalue": "Message: session not created: This version of ChromeDriver only supports Chrome version 108\nCurrent browser version is 110.0.5481.177 with binary path /Applications/Google Chrome.app/Contents/MacOS/Google Chrome\nStacktrace:\n0   chromedriver 3                      0x0000000102543f38 chromedriver 3 + 4910904\n1   chromedriver 3                      0x00000001024c3a03 chromedriver 3 + 4385283\n2   chromedriver 3                      0x0000000102108747 chromedriver 3 + 472903\n3   chromedriver 3                      0x000000010213a3e9 chromedriver 3 + 676841\n4   chromedriver 3                      0x000000010213514b chromedriver 3 + 655691\n5   chromedriver 3                      0x00000001021314a2 chromedriver 3 + 640162\n6   chromedriver 3                      0x000000010217c460 chromedriver 3 + 947296\n7   chromedriver 3                      0x000000010217bcbf chromedriver 3 + 945343\n8   chromedriver 3                      0x0000000102172ee3 chromedriver 3 + 909027\n9   chromedriver 3                      0x000000010213d30c chromedriver 3 + 688908\n10  chromedriver 3                      0x000000010213e88e chromedriver 3 + 694414\n11  chromedriver 3                      0x00000001025111de chromedriver 3 + 4702686\n12  chromedriver 3                      0x0000000102515b19 chromedriver 3 + 4721433\n13  chromedriver 3                      0x000000010251d28e chromedriver 3 + 4752014\n14  chromedriver 3                      0x000000010251691a chromedriver 3 + 4725018\n15  chromedriver 3                      0x00000001024eab02 chromedriver 3 + 4545282\n16  chromedriver 3                      0x0000000102535888 chromedriver 3 + 4851848\n17  chromedriver 3                      0x0000000102535a05 chromedriver 3 + 4852229\n18  chromedriver 3                      0x000000010254be5f chromedriver 3 + 4943455\n19  libsystem_pthread.dylib             0x00007ff80b5ed259 _pthread_start + 125\n20  libsystem_pthread.dylib             0x00007ff80b5e8c7b thread_start + 15\n",
     "output_type": "error",
     "traceback": [
      "\u001b[0;31m---------------------------------------------------------------------------\u001b[0m",
      "\u001b[0;31mSessionNotCreatedException\u001b[0m                Traceback (most recent call last)",
      "\u001b[0;32m<ipython-input-5-d74047b0439b>\u001b[0m in \u001b[0;36m<module>\u001b[0;34m\u001b[0m\n\u001b[0;32m----> 1\u001b[0;31m \u001b[0mdriver\u001b[0m \u001b[0;34m=\u001b[0m \u001b[0mwebdriver\u001b[0m\u001b[0;34m.\u001b[0m\u001b[0mChrome\u001b[0m\u001b[0;34m(\u001b[0m\u001b[0mchrome_options\u001b[0m\u001b[0;34m=\u001b[0m\u001b[0mchrome_options\u001b[0m\u001b[0;34m,\u001b[0m \u001b[0mexecutable_path\u001b[0m \u001b[0;34m=\u001b[0m \u001b[0;34m'/Users/I858676/Downloads/chromedriver 3'\u001b[0m\u001b[0;34m)\u001b[0m\u001b[0;34m\u001b[0m\u001b[0;34m\u001b[0m\u001b[0m\n\u001b[0m\u001b[1;32m      2\u001b[0m \u001b[0;31m# driver.get(\"https://en.wikipedia.org/wiki/Survivor_(American_TV_series)\")\u001b[0m\u001b[0;34m\u001b[0m\u001b[0;34m\u001b[0m\u001b[0;34m\u001b[0m\u001b[0m\n",
      "\u001b[0;32m~/opt/anaconda3/lib/python3.8/site-packages/selenium/webdriver/chrome/webdriver.py\u001b[0m in \u001b[0;36m__init__\u001b[0;34m(self, executable_path, port, options, service_args, desired_capabilities, service_log_path, chrome_options, service, keep_alive)\u001b[0m\n\u001b[1;32m     68\u001b[0m             \u001b[0mservice\u001b[0m \u001b[0;34m=\u001b[0m \u001b[0mService\u001b[0m\u001b[0;34m(\u001b[0m\u001b[0mexecutable_path\u001b[0m\u001b[0;34m,\u001b[0m \u001b[0mport\u001b[0m\u001b[0;34m,\u001b[0m \u001b[0mservice_args\u001b[0m\u001b[0;34m,\u001b[0m \u001b[0mservice_log_path\u001b[0m\u001b[0;34m)\u001b[0m\u001b[0;34m\u001b[0m\u001b[0;34m\u001b[0m\u001b[0m\n\u001b[1;32m     69\u001b[0m \u001b[0;34m\u001b[0m\u001b[0m\n\u001b[0;32m---> 70\u001b[0;31m         super(WebDriver, self).__init__(DesiredCapabilities.CHROME['browserName'], \"goog\",\n\u001b[0m\u001b[1;32m     71\u001b[0m                                         \u001b[0mport\u001b[0m\u001b[0;34m,\u001b[0m \u001b[0moptions\u001b[0m\u001b[0;34m,\u001b[0m\u001b[0;34m\u001b[0m\u001b[0;34m\u001b[0m\u001b[0m\n\u001b[1;32m     72\u001b[0m                                         \u001b[0mservice_args\u001b[0m\u001b[0;34m,\u001b[0m \u001b[0mdesired_capabilities\u001b[0m\u001b[0;34m,\u001b[0m\u001b[0;34m\u001b[0m\u001b[0;34m\u001b[0m\u001b[0m\n",
      "\u001b[0;32m~/opt/anaconda3/lib/python3.8/site-packages/selenium/webdriver/chromium/webdriver.py\u001b[0m in \u001b[0;36m__init__\u001b[0;34m(self, browser_name, vendor_prefix, port, options, service_args, desired_capabilities, service_log_path, service, keep_alive)\u001b[0m\n\u001b[1;32m     91\u001b[0m \u001b[0;34m\u001b[0m\u001b[0m\n\u001b[1;32m     92\u001b[0m         \u001b[0;32mtry\u001b[0m\u001b[0;34m:\u001b[0m\u001b[0;34m\u001b[0m\u001b[0;34m\u001b[0m\u001b[0m\n\u001b[0;32m---> 93\u001b[0;31m             RemoteWebDriver.__init__(\n\u001b[0m\u001b[1;32m     94\u001b[0m                 \u001b[0mself\u001b[0m\u001b[0;34m,\u001b[0m\u001b[0;34m\u001b[0m\u001b[0;34m\u001b[0m\u001b[0m\n\u001b[1;32m     95\u001b[0m                 command_executor=ChromiumRemoteConnection(\n",
      "\u001b[0;32m~/opt/anaconda3/lib/python3.8/site-packages/selenium/webdriver/remote/webdriver.py\u001b[0m in \u001b[0;36m__init__\u001b[0;34m(self, command_executor, desired_capabilities, browser_profile, proxy, keep_alive, file_detector, options)\u001b[0m\n\u001b[1;32m    267\u001b[0m         \u001b[0mself\u001b[0m\u001b[0;34m.\u001b[0m\u001b[0mfile_detector\u001b[0m \u001b[0;34m=\u001b[0m \u001b[0mfile_detector\u001b[0m \u001b[0;32mor\u001b[0m \u001b[0mLocalFileDetector\u001b[0m\u001b[0;34m(\u001b[0m\u001b[0;34m)\u001b[0m\u001b[0;34m\u001b[0m\u001b[0;34m\u001b[0m\u001b[0m\n\u001b[1;32m    268\u001b[0m         \u001b[0mself\u001b[0m\u001b[0;34m.\u001b[0m\u001b[0mstart_client\u001b[0m\u001b[0;34m(\u001b[0m\u001b[0;34m)\u001b[0m\u001b[0;34m\u001b[0m\u001b[0;34m\u001b[0m\u001b[0m\n\u001b[0;32m--> 269\u001b[0;31m         \u001b[0mself\u001b[0m\u001b[0;34m.\u001b[0m\u001b[0mstart_session\u001b[0m\u001b[0;34m(\u001b[0m\u001b[0mcapabilities\u001b[0m\u001b[0;34m,\u001b[0m \u001b[0mbrowser_profile\u001b[0m\u001b[0;34m)\u001b[0m\u001b[0;34m\u001b[0m\u001b[0;34m\u001b[0m\u001b[0m\n\u001b[0m\u001b[1;32m    270\u001b[0m \u001b[0;34m\u001b[0m\u001b[0m\n\u001b[1;32m    271\u001b[0m     \u001b[0;32mdef\u001b[0m \u001b[0m__repr__\u001b[0m\u001b[0;34m(\u001b[0m\u001b[0mself\u001b[0m\u001b[0;34m)\u001b[0m\u001b[0;34m:\u001b[0m\u001b[0;34m\u001b[0m\u001b[0;34m\u001b[0m\u001b[0m\n",
      "\u001b[0;32m~/opt/anaconda3/lib/python3.8/site-packages/selenium/webdriver/remote/webdriver.py\u001b[0m in \u001b[0;36mstart_session\u001b[0;34m(self, capabilities, browser_profile)\u001b[0m\n\u001b[1;32m    358\u001b[0m         parameters = {\"capabilities\": w3c_caps,\n\u001b[1;32m    359\u001b[0m                       \"desiredCapabilities\": capabilities}\n\u001b[0;32m--> 360\u001b[0;31m         \u001b[0mresponse\u001b[0m \u001b[0;34m=\u001b[0m \u001b[0mself\u001b[0m\u001b[0;34m.\u001b[0m\u001b[0mexecute\u001b[0m\u001b[0;34m(\u001b[0m\u001b[0mCommand\u001b[0m\u001b[0;34m.\u001b[0m\u001b[0mNEW_SESSION\u001b[0m\u001b[0;34m,\u001b[0m \u001b[0mparameters\u001b[0m\u001b[0;34m)\u001b[0m\u001b[0;34m\u001b[0m\u001b[0;34m\u001b[0m\u001b[0m\n\u001b[0m\u001b[1;32m    361\u001b[0m         \u001b[0;32mif\u001b[0m \u001b[0;34m'sessionId'\u001b[0m \u001b[0;32mnot\u001b[0m \u001b[0;32min\u001b[0m \u001b[0mresponse\u001b[0m\u001b[0;34m:\u001b[0m\u001b[0;34m\u001b[0m\u001b[0;34m\u001b[0m\u001b[0m\n\u001b[1;32m    362\u001b[0m             \u001b[0mresponse\u001b[0m \u001b[0;34m=\u001b[0m \u001b[0mresponse\u001b[0m\u001b[0;34m[\u001b[0m\u001b[0;34m'value'\u001b[0m\u001b[0;34m]\u001b[0m\u001b[0;34m\u001b[0m\u001b[0;34m\u001b[0m\u001b[0m\n",
      "\u001b[0;32m~/opt/anaconda3/lib/python3.8/site-packages/selenium/webdriver/remote/webdriver.py\u001b[0m in \u001b[0;36mexecute\u001b[0;34m(self, driver_command, params)\u001b[0m\n\u001b[1;32m    423\u001b[0m         \u001b[0mresponse\u001b[0m \u001b[0;34m=\u001b[0m \u001b[0mself\u001b[0m\u001b[0;34m.\u001b[0m\u001b[0mcommand_executor\u001b[0m\u001b[0;34m.\u001b[0m\u001b[0mexecute\u001b[0m\u001b[0;34m(\u001b[0m\u001b[0mdriver_command\u001b[0m\u001b[0;34m,\u001b[0m \u001b[0mparams\u001b[0m\u001b[0;34m)\u001b[0m\u001b[0;34m\u001b[0m\u001b[0;34m\u001b[0m\u001b[0m\n\u001b[1;32m    424\u001b[0m         \u001b[0;32mif\u001b[0m \u001b[0mresponse\u001b[0m\u001b[0;34m:\u001b[0m\u001b[0;34m\u001b[0m\u001b[0;34m\u001b[0m\u001b[0m\n\u001b[0;32m--> 425\u001b[0;31m             \u001b[0mself\u001b[0m\u001b[0;34m.\u001b[0m\u001b[0merror_handler\u001b[0m\u001b[0;34m.\u001b[0m\u001b[0mcheck_response\u001b[0m\u001b[0;34m(\u001b[0m\u001b[0mresponse\u001b[0m\u001b[0;34m)\u001b[0m\u001b[0;34m\u001b[0m\u001b[0;34m\u001b[0m\u001b[0m\n\u001b[0m\u001b[1;32m    426\u001b[0m             response['value'] = self._unwrap_value(\n\u001b[1;32m    427\u001b[0m                 response.get('value', None))\n",
      "\u001b[0;32m~/opt/anaconda3/lib/python3.8/site-packages/selenium/webdriver/remote/errorhandler.py\u001b[0m in \u001b[0;36mcheck_response\u001b[0;34m(self, response)\u001b[0m\n\u001b[1;32m    245\u001b[0m                 \u001b[0malert_text\u001b[0m \u001b[0;34m=\u001b[0m \u001b[0mvalue\u001b[0m\u001b[0;34m[\u001b[0m\u001b[0;34m'alert'\u001b[0m\u001b[0;34m]\u001b[0m\u001b[0;34m.\u001b[0m\u001b[0mget\u001b[0m\u001b[0;34m(\u001b[0m\u001b[0;34m'text'\u001b[0m\u001b[0;34m)\u001b[0m\u001b[0;34m\u001b[0m\u001b[0;34m\u001b[0m\u001b[0m\n\u001b[1;32m    246\u001b[0m             \u001b[0;32mraise\u001b[0m \u001b[0mexception_class\u001b[0m\u001b[0;34m(\u001b[0m\u001b[0mmessage\u001b[0m\u001b[0;34m,\u001b[0m \u001b[0mscreen\u001b[0m\u001b[0;34m,\u001b[0m \u001b[0mstacktrace\u001b[0m\u001b[0;34m,\u001b[0m \u001b[0malert_text\u001b[0m\u001b[0;34m)\u001b[0m  \u001b[0;31m# type: ignore[call-arg]  # mypy is not smart enough here\u001b[0m\u001b[0;34m\u001b[0m\u001b[0;34m\u001b[0m\u001b[0m\n\u001b[0;32m--> 247\u001b[0;31m         \u001b[0;32mraise\u001b[0m \u001b[0mexception_class\u001b[0m\u001b[0;34m(\u001b[0m\u001b[0mmessage\u001b[0m\u001b[0;34m,\u001b[0m \u001b[0mscreen\u001b[0m\u001b[0;34m,\u001b[0m \u001b[0mstacktrace\u001b[0m\u001b[0;34m)\u001b[0m\u001b[0;34m\u001b[0m\u001b[0;34m\u001b[0m\u001b[0m\n\u001b[0m\u001b[1;32m    248\u001b[0m \u001b[0;34m\u001b[0m\u001b[0m\n\u001b[1;32m    249\u001b[0m     \u001b[0;32mdef\u001b[0m \u001b[0m_value_or_default\u001b[0m\u001b[0;34m(\u001b[0m\u001b[0mself\u001b[0m\u001b[0;34m,\u001b[0m \u001b[0mobj\u001b[0m\u001b[0;34m:\u001b[0m \u001b[0mMapping\u001b[0m\u001b[0;34m[\u001b[0m\u001b[0m_KT\u001b[0m\u001b[0;34m,\u001b[0m \u001b[0m_VT\u001b[0m\u001b[0;34m]\u001b[0m\u001b[0;34m,\u001b[0m \u001b[0mkey\u001b[0m\u001b[0;34m:\u001b[0m \u001b[0m_KT\u001b[0m\u001b[0;34m,\u001b[0m \u001b[0mdefault\u001b[0m\u001b[0;34m:\u001b[0m \u001b[0m_VT\u001b[0m\u001b[0;34m)\u001b[0m \u001b[0;34m->\u001b[0m \u001b[0m_VT\u001b[0m\u001b[0;34m:\u001b[0m\u001b[0;34m\u001b[0m\u001b[0;34m\u001b[0m\u001b[0m\n",
      "\u001b[0;31mSessionNotCreatedException\u001b[0m: Message: session not created: This version of ChromeDriver only supports Chrome version 108\nCurrent browser version is 110.0.5481.177 with binary path /Applications/Google Chrome.app/Contents/MacOS/Google Chrome\nStacktrace:\n0   chromedriver 3                      0x0000000102543f38 chromedriver 3 + 4910904\n1   chromedriver 3                      0x00000001024c3a03 chromedriver 3 + 4385283\n2   chromedriver 3                      0x0000000102108747 chromedriver 3 + 472903\n3   chromedriver 3                      0x000000010213a3e9 chromedriver 3 + 676841\n4   chromedriver 3                      0x000000010213514b chromedriver 3 + 655691\n5   chromedriver 3                      0x00000001021314a2 chromedriver 3 + 640162\n6   chromedriver 3                      0x000000010217c460 chromedriver 3 + 947296\n7   chromedriver 3                      0x000000010217bcbf chromedriver 3 + 945343\n8   chromedriver 3                      0x0000000102172ee3 chromedriver 3 + 909027\n9   chromedriver 3                      0x000000010213d30c chromedriver 3 + 688908\n10  chromedriver 3                      0x000000010213e88e chromedriver 3 + 694414\n11  chromedriver 3                      0x00000001025111de chromedriver 3 + 4702686\n12  chromedriver 3                      0x0000000102515b19 chromedriver 3 + 4721433\n13  chromedriver 3                      0x000000010251d28e chromedriver 3 + 4752014\n14  chromedriver 3                      0x000000010251691a chromedriver 3 + 4725018\n15  chromedriver 3                      0x00000001024eab02 chromedriver 3 + 4545282\n16  chromedriver 3                      0x0000000102535888 chromedriver 3 + 4851848\n17  chromedriver 3                      0x0000000102535a05 chromedriver 3 + 4852229\n18  chromedriver 3                      0x000000010254be5f chromedriver 3 + 4943455\n19  libsystem_pthread.dylib             0x00007ff80b5ed259 _pthread_start + 125\n20  libsystem_pthread.dylib             0x00007ff80b5e8c7b thread_start + 15\n"
     ]
    }
   ],
   "source": [
    "# driver = webdriver.Chrome(chrome_options=chrome_options, executable_path = '/Users/I858676/Downloads/chromedriver 3')\n",
    "# driver.get(\"https://en.wikipedia.org/wiki/Survivor_(American_TV_series)\")"
   ]
  },
  {
   "cell_type": "code",
   "execution_count": 6,
   "id": "08f2d148",
   "metadata": {},
   "outputs": [],
   "source": [
    "web = requests.get(\"https://en.wikipedia.org/wiki/Survivor_(American_TV_series)\")"
   ]
  },
  {
   "cell_type": "code",
   "execution_count": 7,
   "id": "bb443309",
   "metadata": {},
   "outputs": [],
   "source": [
    "web_html = bs(web.content)"
   ]
  },
  {
   "cell_type": "code",
   "execution_count": 8,
   "id": "581c5820",
   "metadata": {},
   "outputs": [],
   "source": [
    "table = web_html.find(\"table\", {\"class\":'wikitable sortable'})\n",
    "df = pd.read_html(StringIO(str(table)))[0]"
   ]
  },
  {
   "cell_type": "code",
   "execution_count": 9,
   "id": "743f192e",
   "metadata": {},
   "outputs": [
    {
     "data": {
      "text/plain": [
       "12"
      ]
     },
     "execution_count": 9,
     "metadata": {},
     "output_type": "execute_result"
    }
   ],
   "source": [
    "NUM"
   ]
  },
  {
   "cell_type": "code",
   "execution_count": 11,
   "id": "bbace8af",
   "metadata": {},
   "outputs": [
    {
     "name": "stdout",
     "output_type": "stream",
     "text": [
      "13\n",
      "                 Contestant  Age                       From\n",
      "0               Sekou Bunch   45     Los Angeles,California\n",
      "12         Candice Woodcock   23            Washington,D.C.\n",
      "13          Jonathan Penner   44     Los Angeles,California\n",
      "11   Nathan \"Nate\" Gonzalez   26   Playa del Rey,California\n",
      "9            Rebecca Borman   34         Laurelton,New York\n",
      "14          Parvati Shallow   23  West Hollywood,California\n",
      "1   Virgilio \"Billy\" Garcia   36     New York City,New York\n",
      "3      John \"J.P.\" Calderon   30      Long Beach,California\n",
      "16            Sundra Oakley   31     Los Angeles,California\n",
      "4          Stephannie Favor   35    Columbia,South Carolina\n",
      "18       Oscar \"Ozzy\" Lusth   24          Venice,California\n",
      "17      Rebekah \"Becky\" Lee   28            Washington,D.C.\n",
      "10          Jenny Guzon-Bae   36       Lake Forest,Illinois\n",
      "5    Anh-Tuan \"Cao Boi\" Bui   42    Christiansburg,Virginia\n",
      "2          Cecilia Mansilla   29         Oakland,California\n",
      "19                 Yul Kwon   31       San Mateo,California\n",
      "15              Adam Gentry   27       San Diego,California\n",
      "6            Cristina Coria   35    Santa Monica,California\n",
      "8               Brad Virata   29    Santa Monica,California\n",
      "7             Jessica Smith   27           Chico,California\n"
     ]
    }
   ],
   "source": [
    "for NUM in range(43)[13:14]:\n",
    "    print(NUM)\n",
    "    web = requests.get(\"https://en.wikipedia.org/wiki/Survivor_(American_TV_series)\")\n",
    "    web_html = bs(web.content)\n",
    "    table = web_html.find(\"table\", {\"class\":'wikitable sortable'})\n",
    "    df = pd.read_html(StringIO(str(table)))[0]\n",
    "    website_str = table.find('a', text='{}'.format(NUM))['href']\n",
    "    if website_str.startswith('http://'):\n",
    "        req = requests.get(website_str)\n",
    "    else:\n",
    "        website_str = 'http://wikipedia.org' + website_str\n",
    "        req = requests.get(website_str)\n",
    "    html = bs(req.content)\n",
    "    cont_table = html.select('table[class*=\"wikitable\"]')\n",
    "    df = pd.read_html(StringIO(str(cont_table[0])))[0]\n",
    "    col_list  = [i + ' ' + j if j != i else i for i,j in df.columns]\n",
    "    df.columns=col_list\n",
    "    df_keep = df[['Contestant', 'Age', 'From']]\n",
    "    df_keep = df_keep.sample(frac = 1)\n",
    "    print(df_keep)"
   ]
  },
  {
   "cell_type": "code",
   "execution_count": 18,
   "id": "b76edd42",
   "metadata": {},
   "outputs": [],
   "source": [
    "sd = df_keep.to_dict()"
   ]
  },
  {
   "cell_type": "code",
   "execution_count": 23,
   "id": "73d0f6bc",
   "metadata": {},
   "outputs": [
    {
     "data": {
      "text/plain": [
       "[45,\n",
       " 23,\n",
       " 44,\n",
       " 26,\n",
       " 34,\n",
       " 23,\n",
       " 36,\n",
       " 30,\n",
       " 31,\n",
       " 35,\n",
       " 24,\n",
       " 28,\n",
       " 36,\n",
       " 42,\n",
       " 29,\n",
       " 31,\n",
       " 27,\n",
       " 35,\n",
       " 29,\n",
       " 27]"
      ]
     },
     "execution_count": 23,
     "metadata": {},
     "output_type": "execute_result"
    }
   ],
   "source": [
    "list(sd['Age'].values())"
   ]
  },
  {
   "cell_type": "code",
   "execution_count": 27,
   "id": "cb081e88",
   "metadata": {},
   "outputs": [
    {
     "data": {
      "text/plain": [
       "['Los Angeles,California',\n",
       " 'Washington,D.C.',\n",
       " 'Los Angeles,California',\n",
       " 'Playa del Rey,California',\n",
       " 'Laurelton,New York',\n",
       " 'West Hollywood,California',\n",
       " 'New York City,New York',\n",
       " 'Long Beach,California',\n",
       " 'Los Angeles,California',\n",
       " 'Columbia,South Carolina',\n",
       " 'Venice,California',\n",
       " 'Washington,D.C.',\n",
       " 'Lake Forest,Illinois',\n",
       " 'Christiansburg,Virginia',\n",
       " 'Oakland,California',\n",
       " 'San Mateo,California',\n",
       " 'San Diego,California',\n",
       " 'Santa Monica,California',\n",
       " 'Santa Monica,California',\n",
       " 'Chico,California']"
      ]
     },
     "execution_count": 27,
     "metadata": {},
     "output_type": "execute_result"
    }
   ],
   "source": [
    "list(sd['From'].values())"
   ]
  },
  {
   "cell_type": "code",
   "execution_count": null,
   "id": "ae637755",
   "metadata": {},
   "outputs": [],
   "source": [
    "NUM = 31"
   ]
  },
  {
   "cell_type": "code",
   "execution_count": 368,
   "id": "2559a995",
   "metadata": {},
   "outputs": [],
   "source": [
    "web = requests.get(\"https://en.wikipedia.org/wiki/Survivor_(American_TV_series)\")\n",
    "web_html = bs(web.content)\n",
    "table = web_html.find(\"table\", {\"class\":'wikitable sortable'})\n",
    "df = pd.read_html(StringIO(str(table)))[0]"
   ]
  },
  {
   "cell_type": "code",
   "execution_count": 375,
   "id": "06426e22",
   "metadata": {},
   "outputs": [],
   "source": [
    "season_name, season_loc, season_prem =  df.loc[df['Season'] == NUM, ['Subtitle', 'Location', 'Original tribes']].values.tolist()[0]"
   ]
  },
  {
   "cell_type": "code",
   "execution_count": 353,
   "id": "32a5bdae",
   "metadata": {},
   "outputs": [
    {
     "name": "stdout",
     "output_type": "stream",
     "text": [
      "needed to add html prefix\n"
     ]
    }
   ],
   "source": [
    "website_str = table.find('a', text='{}'.format(NUM))['href']\n",
    "if website_str.startswith('http://'):\n",
    "    req = requests.get(website_str)\n",
    "else:\n",
    "    print('needed to add html prefix')\n",
    "    website_str = 'http://wikipedia.org' + website_str\n",
    "    req = requests.get(website_str)"
   ]
  },
  {
   "cell_type": "code",
   "execution_count": 354,
   "id": "f80d9fe1",
   "metadata": {},
   "outputs": [
    {
     "data": {
      "text/plain": [
       "'http://wikipedia.org/wiki/Survivor:_Cambodia'"
      ]
     },
     "execution_count": 354,
     "metadata": {},
     "output_type": "execute_result"
    }
   ],
   "source": [
    "website_str"
   ]
  },
  {
   "cell_type": "code",
   "execution_count": 355,
   "id": "74723ca2",
   "metadata": {},
   "outputs": [],
   "source": [
    "html = bs(req.content)\n",
    "cont_table = html.find_all(\"table\", {\"class\":'wikitable sortable'})"
   ]
  },
  {
   "cell_type": "code",
   "execution_count": 356,
   "id": "b632e57e",
   "metadata": {},
   "outputs": [
    {
     "ename": "ValueError",
     "evalue": "too many values to unpack (expected 2)",
     "output_type": "error",
     "traceback": [
      "\u001b[0;31m---------------------------------------------------------------------------\u001b[0m",
      "\u001b[0;31mValueError\u001b[0m                                Traceback (most recent call last)",
      "\u001b[0;32m<ipython-input-356-37d391edccf8>\u001b[0m in \u001b[0;36m<module>\u001b[0;34m\u001b[0m\n\u001b[1;32m      1\u001b[0m \u001b[0mdf\u001b[0m \u001b[0;34m=\u001b[0m \u001b[0mpd\u001b[0m\u001b[0;34m.\u001b[0m\u001b[0mread_html\u001b[0m\u001b[0;34m(\u001b[0m\u001b[0mStringIO\u001b[0m\u001b[0;34m(\u001b[0m\u001b[0mstr\u001b[0m\u001b[0;34m(\u001b[0m\u001b[0mcont_table\u001b[0m\u001b[0;34m[\u001b[0m\u001b[0;36m0\u001b[0m\u001b[0;34m]\u001b[0m\u001b[0;34m)\u001b[0m\u001b[0;34m)\u001b[0m\u001b[0;34m)\u001b[0m\u001b[0;34m[\u001b[0m\u001b[0;36m0\u001b[0m\u001b[0;34m]\u001b[0m\u001b[0;34m\u001b[0m\u001b[0;34m\u001b[0m\u001b[0m\n\u001b[0;32m----> 2\u001b[0;31m \u001b[0mcol_list\u001b[0m  \u001b[0;34m=\u001b[0m \u001b[0;34m[\u001b[0m\u001b[0mi\u001b[0m \u001b[0;34m+\u001b[0m \u001b[0;34m' '\u001b[0m \u001b[0;34m+\u001b[0m \u001b[0mj\u001b[0m \u001b[0;32mif\u001b[0m \u001b[0mj\u001b[0m \u001b[0;34m!=\u001b[0m \u001b[0mi\u001b[0m \u001b[0;32melse\u001b[0m \u001b[0mi\u001b[0m \u001b[0;32mfor\u001b[0m \u001b[0mi\u001b[0m\u001b[0;34m,\u001b[0m\u001b[0mj\u001b[0m \u001b[0;32min\u001b[0m \u001b[0mdf\u001b[0m\u001b[0;34m.\u001b[0m\u001b[0mcolumns\u001b[0m\u001b[0;34m]\u001b[0m\u001b[0;34m\u001b[0m\u001b[0;34m\u001b[0m\u001b[0m\n\u001b[0m\u001b[1;32m      3\u001b[0m \u001b[0mdf\u001b[0m\u001b[0;34m.\u001b[0m\u001b[0mcolumns\u001b[0m\u001b[0;34m=\u001b[0m\u001b[0mcol_list\u001b[0m\u001b[0;34m\u001b[0m\u001b[0;34m\u001b[0m\u001b[0m\n",
      "\u001b[0;32m<ipython-input-356-37d391edccf8>\u001b[0m in \u001b[0;36m<listcomp>\u001b[0;34m(.0)\u001b[0m\n\u001b[1;32m      1\u001b[0m \u001b[0mdf\u001b[0m \u001b[0;34m=\u001b[0m \u001b[0mpd\u001b[0m\u001b[0;34m.\u001b[0m\u001b[0mread_html\u001b[0m\u001b[0;34m(\u001b[0m\u001b[0mStringIO\u001b[0m\u001b[0;34m(\u001b[0m\u001b[0mstr\u001b[0m\u001b[0;34m(\u001b[0m\u001b[0mcont_table\u001b[0m\u001b[0;34m[\u001b[0m\u001b[0;36m0\u001b[0m\u001b[0;34m]\u001b[0m\u001b[0;34m)\u001b[0m\u001b[0;34m)\u001b[0m\u001b[0;34m)\u001b[0m\u001b[0;34m[\u001b[0m\u001b[0;36m0\u001b[0m\u001b[0;34m]\u001b[0m\u001b[0;34m\u001b[0m\u001b[0;34m\u001b[0m\u001b[0m\n\u001b[0;32m----> 2\u001b[0;31m \u001b[0mcol_list\u001b[0m  \u001b[0;34m=\u001b[0m \u001b[0;34m[\u001b[0m\u001b[0mi\u001b[0m \u001b[0;34m+\u001b[0m \u001b[0;34m' '\u001b[0m \u001b[0;34m+\u001b[0m \u001b[0mj\u001b[0m \u001b[0;32mif\u001b[0m \u001b[0mj\u001b[0m \u001b[0;34m!=\u001b[0m \u001b[0mi\u001b[0m \u001b[0;32melse\u001b[0m \u001b[0mi\u001b[0m \u001b[0;32mfor\u001b[0m \u001b[0mi\u001b[0m\u001b[0;34m,\u001b[0m\u001b[0mj\u001b[0m \u001b[0;32min\u001b[0m \u001b[0mdf\u001b[0m\u001b[0;34m.\u001b[0m\u001b[0mcolumns\u001b[0m\u001b[0;34m]\u001b[0m\u001b[0;34m\u001b[0m\u001b[0;34m\u001b[0m\u001b[0m\n\u001b[0m\u001b[1;32m      3\u001b[0m \u001b[0mdf\u001b[0m\u001b[0;34m.\u001b[0m\u001b[0mcolumns\u001b[0m\u001b[0;34m=\u001b[0m\u001b[0mcol_list\u001b[0m\u001b[0;34m\u001b[0m\u001b[0;34m\u001b[0m\u001b[0m\n",
      "\u001b[0;31mValueError\u001b[0m: too many values to unpack (expected 2)"
     ]
    }
   ],
   "source": [
    "df = pd.read_html(StringIO(str(cont_table[0])))[0]\n",
    "col_list  = [i + ' ' + j if j != i else i for i,j in df.columns]\n",
    "df.columns=col_list"
   ]
  },
  {
   "cell_type": "code",
   "execution_count": 387,
   "id": "894723f7",
   "metadata": {},
   "outputs": [
    {
     "data": {
      "text/plain": [
       "'Cambodia'"
      ]
     },
     "execution_count": 387,
     "metadata": {},
     "output_type": "execute_result"
    }
   ],
   "source": [
    "season_name"
   ]
  },
  {
   "cell_type": "code",
   "execution_count": 378,
   "id": "c7eb8a8b",
   "metadata": {},
   "outputs": [],
   "source": [
    "pot_cont_table = html.find_all(\"table\", {\"class\":'wikitable sortable'})"
   ]
  },
  {
   "cell_type": "code",
   "execution_count": 397,
   "id": "fdb3a6fa",
   "metadata": {},
   "outputs": [],
   "source": [
    "for tab in pot_cont_table:\n",
    "    if 'merged' in [col.text.strip('\\n').lower() for col in tab.find_all('th')]:\n",
    "        cont_table = tab"
   ]
  },
  {
   "cell_type": "code",
   "execution_count": 410,
   "id": "6e38ba9b",
   "metadata": {},
   "outputs": [
    {
     "data": {
      "text/plain": [
       "[<i>Worlds Apart</i>]"
      ]
     },
     "execution_count": 410,
     "metadata": {},
     "output_type": "execute_result"
    }
   ],
   "source": [
    "tab.find_all('th')[12].find_all('i')"
   ]
  },
  {
   "cell_type": "code",
   "execution_count": null,
   "id": "035779c0",
   "metadata": {},
   "outputs": [],
   "source": []
  },
  {
   "cell_type": "code",
   "execution_count": 438,
   "id": "b879d579",
   "metadata": {},
   "outputs": [
    {
     "data": {
      "text/plain": [
       "'<table class=\"wikitable sortable\" style=\"margin:auto; text-align:center\">\\n<caption>List of <i>Survivor: Cambodia - Second Chance</i> contestants\\n</caption>\\n<tbody><tr>\\n<th rowspan=\"2\" scope=\"col\">Contestant\\n</th>\\n<th rowspan=\"2\" scope=\"col\">Age\\n</th>\\n<th class=\"unsortable\" rowspan=\"2\" scope=\"col\">From\\n</th>\\n<th colspan=\"4\" scope=\"colgroup\">Tribe\\n</th>\\n<th colspan=\"2\" scope=\"colgroup\">Finish\\n</th></tr>\\n<tr>\\n<th scope=\"col\">Original\\n</th>\\n<th scope=\"col\">First<br/>switch\\n</th>\\n<th scope=\"col\">Second<br/>switch\\n</th>\\n<th class=\"unsortable\" scope=\"col\">Merged\\n</th>\\n<th class=\"unsortable\" scope=\"col\">Placement\\n</th>\\n<th class=\"unsortable\" scope=\"col\">Day\\n</th></tr>\\n<tr>\\n<th scope=\"row\" style=\"text-align:left;font-weight:normal\"><b><span data-sort-value=\"Baskauskas, Vytas\"><span class=\"vcard\"><span class=\"fn\">Vytas Baskauskas</span></span></span></b><br/><a href=\"/wiki/Survivor:_Blood_vs._Water\" title=\"Survivor: Blood vs. Water\"><i>Blood vs. Water</i></a>\\n</th>\\n<td>35\\n</td>\\n<td><a href=\"/wiki/Santa_Monica,_California\" title=\"Santa Monica, California\">Santa Monica,<br/>California</a>\\n</td>\\n<td rowspan=\"4\" style=\"background:#009999; color:white;\">Ta Keo\\n</td>\\n<td rowspan=\"2\" style=\"background:darkgrey;\">\\n</td>\\n<td rowspan=\"6\" style=\"background:darkgrey;\">\\n</td>\\n<td rowspan=\"7\" style=\"background:darkgrey;\">\\n</td>\\n<td>1st voted out\\n</td>\\n<td>Day 3\\n</td></tr>\\n<tr>\\n<th scope=\"row\" style=\"text-align:left;font-weight:normal\"><b><span data-sort-value=\"Oskooi, Shirin\"><span class=\"vcard\"><span class=\"fn\">Shirin Oskooi</span></span></span></b><br/><a href=\"/wiki/Survivor:_Worlds_Apart\" title=\"Survivor: Worlds Apart\"><i>Worlds Apart</i></a>\\n</th>\\n<td>32\\n</td>\\n<td><a href=\"/wiki/San_Francisco\" title=\"San Francisco\">San Francisco,<br/>California</a>\\n</td>\\n<td>2nd voted out\\n</td>\\n<td>Day 6\\n</td></tr>\\n<tr>\\n<th scope=\"row\" style=\"text-align:left;font-weight:normal\"><b><span data-sort-value=\"Law, Peih-Gee\"><span class=\"vcard\"><span class=\"fn\">Peih-Gee Law</span></span></span></b><br/><a href=\"/wiki/Survivor:_China\" title=\"Survivor: China\"><i>China</i></a>\\n</th>\\n<td>37\\n</td>\\n<td><a href=\"/wiki/San_Francisco\" title=\"San Francisco\">San Francisco,<br/>California</a>\\n</td>\\n<td rowspan=\"2\" style=\"background:#cc9900;\">Angkor\\n</td>\\n<td>3rd voted out\\n</td>\\n<td>Day 9\\n</td></tr>\\n<tr>\\n<th scope=\"row\" style=\"text-align:left;font-weight:normal\"><b><span data-sort-value=\"Varner, Jeff\"><span class=\"vcard\"><span class=\"fn\"><a href=\"/wiki/Jeff_Varner\" title=\"Jeff Varner\">Jeff Varner</a></span></span></span></b><br/><span class=\"nowrap\"><a href=\"/wiki/Survivor:_The_Australian_Outback\" title=\"Survivor: The Australian Outback\"><i>The Australian Outback</i></a></span>\\n</th>\\n<td>49\\n</td>\\n<td><a href=\"/wiki/Greensboro,_North_Carolina\" title=\"Greensboro, North Carolina\">Greensboro,<br/>North Carolina</a>\\n</td>\\n<td>4th voted out\\n</td>\\n<td>Day 11\\n</td></tr>\\n<tr>\\n<th scope=\"row\" style=\"text-align:left;font-weight:normal\"><b><span data-sort-value=\"Padilla, Monica\"><span class=\"vcard\"><span class=\"fn\">Monica Padilla</span></span></span></b><br/><a href=\"/wiki/Survivor:_Samoa\" title=\"Survivor: Samoa\"><i>Samoa</i></a>\\n</th>\\n<td>30\\n</td>\\n<td><a href=\"/wiki/Queens\" title=\"Queens\">Queens,<br/>New York</a>\\n</td>\\n<td style=\"background:#cc3366; color:white;\">Bayon\\n</td>\\n<td style=\"background:#cc3366; color:white;\">Bayon\\n</td>\\n<td>5th voted out\\n</td>\\n<td rowspan=\"2\">Day 13\\n</td></tr>\\n<tr>\\n<th scope=\"row\" style=\"text-align:left;font-weight:normal\"><b><span data-sort-value=\"Deitz, Terry\"><span class=\"vcard\"><span class=\"fn\"><a href=\"/wiki/Terry_Deitz\" title=\"Terry Deitz\">Terry Deitz</a></span></span></span></b><br/><a href=\"/wiki/Survivor:_Panama\" title=\"Survivor: Panama\"><i>Panama</i></a>\\n</th>\\n<td>55\\n</td>\\n<td><a href=\"/wiki/Simsbury,_Connecticut\" title=\"Simsbury, Connecticut\">Simsbury,<br/>Connecticut</a>\\n</td>\\n<td rowspan=\"2\" style=\"background:#009999; color:white;\">Ta Keo\\n</td>\\n<td style=\"background:#009999; color:white;\">Ta Keo\\n</td>\\n<td>Withdrew<br/><span class=\"nowrap\"><i>(Family emergency)</i></span>\\n</td></tr>\\n<tr>\\n<th scope=\"row\" style=\"text-align:left;font-weight:normal\"><b><span data-sort-value=\"Hwang, Woo\"><span class=\"vcard\"><span class=\"fn\">Woo Hwang</span></span></span></b><br/><a href=\"/wiki/Survivor:_Cagayan\" title=\"Survivor: Cagayan\"><i>Cagayan</i></a>\\n</th>\\n<td>31\\n</td>\\n<td><a href=\"/wiki/Newport_Beach,_California\" title=\"Newport Beach, California\">Newport Beach,<br/>California</a>\\n</td>\\n<td style=\"background:#cc9900;\">Angkor\\n</td>\\n<td rowspan=\"5\" style=\"background:#009999; color:white;\">Ta Keo\\n</td>\\n<td>6th voted out\\n</td>\\n<td>Day 16\\n</td></tr>\\n<tr>\\n<th scope=\"row\" style=\"text-align:left;font-weight:normal\"><b><span class=\"nowrap\"><span data-sort-value=\"McQuillen, Kass\"><span class=\"vcard\"><span class=\"fn\">Kass McQuillen</span></span></span></span></b><br/><a href=\"/wiki/Survivor:_Cagayan\" title=\"Survivor: Cagayan\"><i>Cagayan</i></a>\\n</th>\\n<td>43\\n</td>\\n<td><a href=\"/wiki/Tehachapi,_California\" title=\"Tehachapi, California\">Tehachapi,<br/>California</a>\\n</td>\\n<td rowspan=\"2\" style=\"background:#cc3366; color:white;\">Bayon\\n</td>\\n<td style=\"background:#009999; color:white;\">Ta Keo\\n</td>\\n<td rowspan=\"13\" style=\"background:#ff6600; color:white;\">Orkun\\n</td>\\n<td>7th voted out<br/>1st jury member\\n</td>\\n<td>Day 19\\n</td></tr>\\n<tr>\\n<th scope=\"row\" style=\"text-align:left;font-weight:normal\"><b><span data-sort-value=\"Savage, Andrew\"><span class=\"vcard\"><span class=\"fn\">Andrew Savage</span></span></span></b><br/><a href=\"/wiki/Survivor:_Pearl_Islands\" title=\"Survivor: Pearl Islands\"><i>Pearl Islands</i></a>\\n</th>\\n<td>51\\n</td>\\n<td><a href=\"/wiki/San_Jose,_California\" title=\"San Jose, California\">San Jose,<br/> California</a>\\n</td>\\n<td style=\"background:#cc9900;\">Angkor\\n</td>\\n<td>8th voted out<br/>2nd jury member\\n</td>\\n<td>Day 21\\n</td></tr>\\n<tr>\\n<th scope=\"row\" style=\"text-align:left;font-weight:normal\"><b><span data-sort-value=\"Wiglesworth, Kelly\"><span class=\"vcard\"><span class=\"fn\">Kelly Wiglesworth</span></span></span></b><br/><a href=\"/wiki/Survivor:_Borneo\" title=\"Survivor: Borneo\"><i>Borneo</i></a>\\n</th>\\n<td>38\\n</td>\\n<td><a href=\"/wiki/Greensboro,_North_Carolina\" title=\"Greensboro, North Carolina\">Greensboro,<br/>North Carolina</a>\\n</td>\\n<td style=\"background:#009999; color:white;\">Ta Keo\\n</td>\\n<td style=\"background:#cc3366; color:white;\">Bayon\\n</td>\\n<td>9th voted out<br/>3rd jury member\\n</td>\\n<td>Day 24\\n</td></tr>\\n<tr>\\n<th scope=\"row\" style=\"text-align:left;font-weight:normal\"><b><span data-sort-value=\"Eastin, Ciera\"><span class=\"vcard\"><span class=\"fn\">Ciera Eastin</span></span></span></b><br/><a href=\"/wiki/Survivor:_Blood_vs._Water\" title=\"Survivor: Blood vs. Water\"><i>Blood vs. Water</i></a>\\n</th>\\n<td>26\\n</td>\\n<td><a href=\"/wiki/Salem,_Oregon\" title=\"Salem, Oregon\">Salem,<br/>Oregon</a>\\n</td>\\n<td rowspan=\"3\" style=\"background:#cc3366; color:white;\">Bayon\\n</td>\\n<td style=\"background:#009999; color:white;\">Ta Keo\\n</td>\\n<td>10th voted out<br/>4th jury member\\n</td>\\n<td>Day 26\\n</td></tr>\\n<tr>\\n<th scope=\"row\" style=\"text-align:left;font-weight:normal\"><b><span data-sort-value=\"Fishbach, Stephen\"><span class=\"vcard\"><span class=\"fn\"><a href=\"/wiki/Stephen_Fishbach\" title=\"Stephen Fishbach\">Stephen Fishbach</a></span></span></span></b><br/><a href=\"/wiki/Survivor:_Tocantins\" title=\"Survivor: Tocantins\"><i>Tocantins</i></a>\\n</th>\\n<td>36\\n</td>\\n<td><a href=\"/wiki/New_York_City\" title=\"New York City\">New York,<br/>New York</a>\\n</td>\\n<td style=\"background:#cc3366; color:white;\">Bayon\\n</td>\\n<td rowspan=\"2\" style=\"background:#cc3366; color:white;\">Bayon\\n</td>\\n<td>11th voted out<br/>5th jury member\\n</td>\\n<td>Day 29\\n</td></tr>\\n<tr>\\n<th scope=\"row\" style=\"text-align:left;font-weight:normal\"><b><span data-sort-value=\"Anglim, Joe\"><span class=\"vcard\"><span class=\"fn\">Joe Anglim</span></span></span></b><br/><a href=\"/wiki/Survivor:_Worlds_Apart\" title=\"Survivor: Worlds Apart\"><i>Worlds Apart</i></a>\\n</th>\\n<td>26\\n</td>\\n<td><a href=\"/wiki/Scottsdale,_Arizona\" title=\"Scottsdale, Arizona\">Scottsdale,<br/>Arizona</a>\\n</td>\\n<td style=\"background:#009999; color:white;\">Ta Keo\\n</td>\\n<td>12th voted out<br/>6th jury member\\n</td>\\n<td>Day 32\\n</td></tr>\\n<tr>\\n<th scope=\"row\" style=\"text-align:left;font-weight:normal\"><b><span data-sort-value=\"Gomes, Abi-Maria\"><span class=\"vcard\"><span class=\"fn\">Abi-Maria Gomes</span></span></span></b><br/><a href=\"/wiki/Survivor:_Philippines\" title=\"Survivor: Philippines\"><i>Philippines</i></a>\\n</th>\\n<td>35\\n</td>\\n<td><a href=\"/wiki/Los_Angeles\" title=\"Los Angeles\">Los Angeles,<br/>California</a>\\n</td>\\n<td style=\"background:#009999; color:white;\">Ta Keo\\n</td>\\n<td style=\"background:#cc9900;\">Angkor\\n</td>\\n<td style=\"background:#009999; color:white;\">Ta Keo\\n</td>\\n<td>13th voted out<br/>7th jury member\\n</td>\\n<td>Day 35\\n</td></tr>\\n<tr>\\n<th scope=\"row\" style=\"text-align:left;font-weight:normal\"><b><span class=\"nowrap\"><span data-sort-value=\"Kappenberg, Kimmi\"><span class=\"vcard\"><span class=\"fn\">Kimmi Kappenberg</span></span></span></span></b><br/><a href=\"/wiki/Survivor:_The_Australian_Outback\" title=\"Survivor: The Australian Outback\"><i>The Australian Outback</i></a>\\n</th>\\n<td>42\\n</td>\\n<td><a href=\"/wiki/The_Woodlands,_Texas\" title=\"The Woodlands, Texas\"><span class=\"nowrap\">The Woodlands,</span><br/> Texas</a>\\n</td>\\n<td rowspan=\"2\" style=\"background:#cc3366; color:white;\">Bayon\\n</td>\\n<td style=\"background:#cc3366; color:white;\">Bayon\\n</td>\\n<td rowspan=\"3\" style=\"background:#cc3366; color:white;\">Bayon\\n</td>\\n<td>14th voted out<br/>8th jury member\\n</td>\\n<td>Day 36\\n</td></tr>\\n<tr>\\n<th scope=\"row\" style=\"text-align:left;font-weight:normal\"><b><span data-sort-value=\"Nale, Keith\"><span class=\"vcard\"><span class=\"fn\">Keith Nale</span></span></span></b><br/><a href=\"/wiki/Survivor:_San_Juan_del_Sur\" title=\"Survivor: San Juan del Sur\"><i>San Juan del Sur</i></a>\\n</th>\\n<td>54\\n</td>\\n<td><a href=\"/wiki/Keithville,_Louisiana\" title=\"Keithville, Louisiana\">Keithville,<br/>Louisiana</a>\\n</td>\\n<td rowspan=\"2\" style=\"background:#009999; color:white;\">Ta Keo\\n</td>\\n<td>15th voted out<br/>9th jury member\\n</td>\\n<td>Day 37\\n</td></tr>\\n<tr>\\n<th scope=\"row\" style=\"text-align:left;font-weight:normal\"><b><span data-sort-value=\"Wentworth, Kelley\"><span class=\"vcard\"><span class=\"fn\">Kelley Wentworth</span></span></span></b><br/><a href=\"/wiki/Survivor:_San_Juan_del_Sur\" title=\"Survivor: San Juan del Sur\"><i>San Juan del Sur</i></a>\\n</th>\\n<td>29\\n</td>\\n<td><a href=\"/wiki/Seattle\" title=\"Seattle\">Seattle,<br/>Washington</a>\\n</td>\\n<td rowspan=\"2\" style=\"background:#009999; color:white;\">Ta Keo\\n</td>\\n<td>16th voted out<br/><span class=\"nowrap\">10th jury member</span>\\n</td>\\n<td><span class=\"nowrap\">Day 38</span>\\n</td></tr>\\n<tr>\\n<th scope=\"row\" style=\"text-align:left;font-weight:normal\"><b><span data-sort-value=\"Bledsoe, Spencer\"><span class=\"vcard\"><span class=\"fn\">Spencer Bledsoe</span></span></span></b><br/><a href=\"/wiki/Survivor:_Cagayan\" title=\"Survivor: Cagayan\"><i>Cagayan</i></a>\\n</th>\\n<td>23\\n</td>\\n<td><a href=\"/wiki/Chicago\" title=\"Chicago\">Chicago,<br/>Illinois</a>\\n</td>\\n<td style=\"background:#cc3366; color:white;\">Bayon\\n</td>\\n<td style=\"background:#009999; color:white;\">Ta Keo\\n</td>\\n<td rowspan=\"2\">Co-runners-up\\n</td>\\n<td rowspan=\"3\">Day 39\\n</td></tr>\\n<tr>\\n<th scope=\"row\" style=\"text-align:left;font-weight:normal\"><b><span data-sort-value=\"Fox, Tasha\"><span class=\"vcard\"><span class=\"fn\">Tasha Fox</span></span></span></b><br/><a href=\"/wiki/Survivor:_Cagayan\" title=\"Survivor: Cagayan\"><i>Cagayan</i></a>\\n</th>\\n<td>38\\n</td>\\n<td><a href=\"/wiki/St._Louis\" title=\"St. Louis\">St. Louis,<br/>Missouri</a>\\n</td>\\n<td rowspan=\"2\" style=\"background:#cc3366; color:white;\">Bayon\\n</td>\\n<td style=\"background:#cc9900;\">Angkor\\n</td>\\n<td rowspan=\"2\" style=\"background:#cc3366; color:white;\">Bayon\\n</td></tr>\\n<tr>\\n<th scope=\"row\" style=\"text-align:left;font-weight:normal\"><b><span data-sort-value=\"Collins, Jeremy\"><span class=\"vcard\"><span class=\"fn\"><a href=\"/wiki/Jeremy_Collins\" title=\"Jeremy Collins\">Jeremy Collins</a></span></span></span></b><br/><a href=\"/wiki/Survivor:_San_Juan_del_Sur\" title=\"Survivor: San Juan del Sur\"><i>San Juan del Sur</i></a>\\n</th>\\n<td>37\\n</td>\\n<td><a href=\"/wiki/Foxborough,_Massachusetts\" title=\"Foxborough, Massachusetts\">Foxboro,<br/>Massachusetts</a>\\n</td>\\n<td style=\"background:#cc3366; color:white;\">Bayon\\n</td>\\n<td>Sole Survivor\\n</td></tr></tbody></table>'"
      ]
     },
     "execution_count": 438,
     "metadata": {},
     "output_type": "execute_result"
    }
   ],
   "source": [
    "re.sub(re.findall('<i>.+</i>', '<i>Blood vs Water</i>')[0], '', str(tab))"
   ]
  },
  {
   "cell_type": "code",
   "execution_count": 436,
   "id": "65c9b30f",
   "metadata": {},
   "outputs": [
    {
     "data": {
      "text/plain": [
       "'<table class=\"wikitable sortable\" style=\"margin:auto; text-align:center\">\\n<caption>List of <i>Survivor: Cambodia - Second Chance</i> contestants\\n</caption>\\n<tbody><tr>\\n<th rowspan=\"2\" scope=\"col\">Contestant\\n</th>\\n<th rowspan=\"2\" scope=\"col\">Age\\n</th>\\n<th class=\"unsortable\" rowspan=\"2\" scope=\"col\">From\\n</th>\\n<th colspan=\"4\" scope=\"colgroup\">Tribe\\n</th>\\n<th colspan=\"2\" scope=\"colgroup\">Finish\\n</th></tr>\\n<tr>\\n<th scope=\"col\">Original\\n</th>\\n<th scope=\"col\">First<br/>switch\\n</th>\\n<th scope=\"col\">Second<br/>switch\\n</th>\\n<th class=\"unsortable\" scope=\"col\">Merged\\n</th>\\n<th class=\"unsortable\" scope=\"col\">Placement\\n</th>\\n<th class=\"unsortable\" scope=\"col\">Day\\n</th></tr>\\n<tr>\\n<th scope=\"row\" style=\"text-align:left;font-weight:normal\"><b><span data-sort-value=\"Baskauskas, Vytas\"><span class=\"vcard\"><span class=\"fn\">Vytas Baskauskas</span></span></span></b><br/><a href=\"/wiki/Survivor:_Blood_vs._Water\" title=\"Survivor: Blood vs. Water\"><i>Blood vs. Water</i></a>\\n</th>\\n<td>35\\n</td>\\n<td><a href=\"/wiki/Santa_Monica,_California\" title=\"Santa Monica, California\">Santa Monica,<br/>California</a>\\n</td>\\n<td rowspan=\"4\" style=\"background:#009999; color:white;\">Ta Keo\\n</td>\\n<td rowspan=\"2\" style=\"background:darkgrey;\">\\n</td>\\n<td rowspan=\"6\" style=\"background:darkgrey;\">\\n</td>\\n<td rowspan=\"7\" style=\"background:darkgrey;\">\\n</td>\\n<td>1st voted out\\n</td>\\n<td>Day 3\\n</td></tr>\\n<tr>\\n<th scope=\"row\" style=\"text-align:left;font-weight:normal\"><b><span data-sort-value=\"Oskooi, Shirin\"><span class=\"vcard\"><span class=\"fn\">Shirin Oskooi</span></span></span></b><br/><a href=\"/wiki/Survivor:_Worlds_Apart\" title=\"Survivor: Worlds Apart\"><i>Worlds Apart</i></a>\\n</th>\\n<td>32\\n</td>\\n<td><a href=\"/wiki/San_Francisco\" title=\"San Francisco\">San Francisco,<br/>California</a>\\n</td>\\n<td>2nd voted out\\n</td>\\n<td>Day 6\\n</td></tr>\\n<tr>\\n<th scope=\"row\" style=\"text-align:left;font-weight:normal\"><b><span data-sort-value=\"Law, Peih-Gee\"><span class=\"vcard\"><span class=\"fn\">Peih-Gee Law</span></span></span></b><br/><a href=\"/wiki/Survivor:_China\" title=\"Survivor: China\"><i>China</i></a>\\n</th>\\n<td>37\\n</td>\\n<td><a href=\"/wiki/San_Francisco\" title=\"San Francisco\">San Francisco,<br/>California</a>\\n</td>\\n<td rowspan=\"2\" style=\"background:#cc9900;\">Angkor\\n</td>\\n<td>3rd voted out\\n</td>\\n<td>Day 9\\n</td></tr>\\n<tr>\\n<th scope=\"row\" style=\"text-align:left;font-weight:normal\"><b><span data-sort-value=\"Varner, Jeff\"><span class=\"vcard\"><span class=\"fn\"><a href=\"/wiki/Jeff_Varner\" title=\"Jeff Varner\">Jeff Varner</a></span></span></span></b><br/><span class=\"nowrap\"><a href=\"/wiki/Survivor:_The_Australian_Outback\" title=\"Survivor: The Australian Outback\"><i>The Australian Outback</i></a></span>\\n</th>\\n<td>49\\n</td>\\n<td><a href=\"/wiki/Greensboro,_North_Carolina\" title=\"Greensboro, North Carolina\">Greensboro,<br/>North Carolina</a>\\n</td>\\n<td>4th voted out\\n</td>\\n<td>Day 11\\n</td></tr>\\n<tr>\\n<th scope=\"row\" style=\"text-align:left;font-weight:normal\"><b><span data-sort-value=\"Padilla, Monica\"><span class=\"vcard\"><span class=\"fn\">Monica Padilla</span></span></span></b><br/><a href=\"/wiki/Survivor:_Samoa\" title=\"Survivor: Samoa\"><i>Samoa</i></a>\\n</th>\\n<td>30\\n</td>\\n<td><a href=\"/wiki/Queens\" title=\"Queens\">Queens,<br/>New York</a>\\n</td>\\n<td style=\"background:#cc3366; color:white;\">Bayon\\n</td>\\n<td style=\"background:#cc3366; color:white;\">Bayon\\n</td>\\n<td>5th voted out\\n</td>\\n<td rowspan=\"2\">Day 13\\n</td></tr>\\n<tr>\\n<th scope=\"row\" style=\"text-align:left;font-weight:normal\"><b><span data-sort-value=\"Deitz, Terry\"><span class=\"vcard\"><span class=\"fn\"><a href=\"/wiki/Terry_Deitz\" title=\"Terry Deitz\">Terry Deitz</a></span></span></span></b><br/><a href=\"/wiki/Survivor:_Panama\" title=\"Survivor: Panama\"><i>Panama</i></a>\\n</th>\\n<td>55\\n</td>\\n<td><a href=\"/wiki/Simsbury,_Connecticut\" title=\"Simsbury, Connecticut\">Simsbury,<br/>Connecticut</a>\\n</td>\\n<td rowspan=\"2\" style=\"background:#009999; color:white;\">Ta Keo\\n</td>\\n<td style=\"background:#009999; color:white;\">Ta Keo\\n</td>\\n<td>Withdrew<br/><span class=\"nowrap\"><i>(Family emergency)</i></span>\\n</td></tr>\\n<tr>\\n<th scope=\"row\" style=\"text-align:left;font-weight:normal\"><b><span data-sort-value=\"Hwang, Woo\"><span class=\"vcard\"><span class=\"fn\">Woo Hwang</span></span></span></b><br/><a href=\"/wiki/Survivor:_Cagayan\" title=\"Survivor: Cagayan\"><i>Cagayan</i></a>\\n</th>\\n<td>31\\n</td>\\n<td><a href=\"/wiki/Newport_Beach,_California\" title=\"Newport Beach, California\">Newport Beach,<br/>California</a>\\n</td>\\n<td style=\"background:#cc9900;\">Angkor\\n</td>\\n<td rowspan=\"5\" style=\"background:#009999; color:white;\">Ta Keo\\n</td>\\n<td>6th voted out\\n</td>\\n<td>Day 16\\n</td></tr>\\n<tr>\\n<th scope=\"row\" style=\"text-align:left;font-weight:normal\"><b><span class=\"nowrap\"><span data-sort-value=\"McQuillen, Kass\"><span class=\"vcard\"><span class=\"fn\">Kass McQuillen</span></span></span></span></b><br/><a href=\"/wiki/Survivor:_Cagayan\" title=\"Survivor: Cagayan\"><i>Cagayan</i></a>\\n</th>\\n<td>43\\n</td>\\n<td><a href=\"/wiki/Tehachapi,_California\" title=\"Tehachapi, California\">Tehachapi,<br/>California</a>\\n</td>\\n<td rowspan=\"2\" style=\"background:#cc3366; color:white;\">Bayon\\n</td>\\n<td style=\"background:#009999; color:white;\">Ta Keo\\n</td>\\n<td rowspan=\"13\" style=\"background:#ff6600; color:white;\">Orkun\\n</td>\\n<td>7th voted out<br/>1st jury member\\n</td>\\n<td>Day 19\\n</td></tr>\\n<tr>\\n<th scope=\"row\" style=\"text-align:left;font-weight:normal\"><b><span data-sort-value=\"Savage, Andrew\"><span class=\"vcard\"><span class=\"fn\">Andrew Savage</span></span></span></b><br/><a href=\"/wiki/Survivor:_Pearl_Islands\" title=\"Survivor: Pearl Islands\"><i>Pearl Islands</i></a>\\n</th>\\n<td>51\\n</td>\\n<td><a href=\"/wiki/San_Jose,_California\" title=\"San Jose, California\">San Jose,<br/> California</a>\\n</td>\\n<td style=\"background:#cc9900;\">Angkor\\n</td>\\n<td>8th voted out<br/>2nd jury member\\n</td>\\n<td>Day 21\\n</td></tr>\\n<tr>\\n<th scope=\"row\" style=\"text-align:left;font-weight:normal\"><b><span data-sort-value=\"Wiglesworth, Kelly\"><span class=\"vcard\"><span class=\"fn\">Kelly Wiglesworth</span></span></span></b><br/><a href=\"/wiki/Survivor:_Borneo\" title=\"Survivor: Borneo\"><i>Borneo</i></a>\\n</th>\\n<td>38\\n</td>\\n<td><a href=\"/wiki/Greensboro,_North_Carolina\" title=\"Greensboro, North Carolina\">Greensboro,<br/>North Carolina</a>\\n</td>\\n<td style=\"background:#009999; color:white;\">Ta Keo\\n</td>\\n<td style=\"background:#cc3366; color:white;\">Bayon\\n</td>\\n<td>9th voted out<br/>3rd jury member\\n</td>\\n<td>Day 24\\n</td></tr>\\n<tr>\\n<th scope=\"row\" style=\"text-align:left;font-weight:normal\"><b><span data-sort-value=\"Eastin, Ciera\"><span class=\"vcard\"><span class=\"fn\">Ciera Eastin</span></span></span></b><br/><a href=\"/wiki/Survivor:_Blood_vs._Water\" title=\"Survivor: Blood vs. Water\"><i>Blood vs. Water</i></a>\\n</th>\\n<td>26\\n</td>\\n<td><a href=\"/wiki/Salem,_Oregon\" title=\"Salem, Oregon\">Salem,<br/>Oregon</a>\\n</td>\\n<td rowspan=\"3\" style=\"background:#cc3366; color:white;\">Bayon\\n</td>\\n<td style=\"background:#009999; color:white;\">Ta Keo\\n</td>\\n<td>10th voted out<br/>4th jury member\\n</td>\\n<td>Day 26\\n</td></tr>\\n<tr>\\n<th scope=\"row\" style=\"text-align:left;font-weight:normal\"><b><span data-sort-value=\"Fishbach, Stephen\"><span class=\"vcard\"><span class=\"fn\"><a href=\"/wiki/Stephen_Fishbach\" title=\"Stephen Fishbach\">Stephen Fishbach</a></span></span></span></b><br/><a href=\"/wiki/Survivor:_Tocantins\" title=\"Survivor: Tocantins\"><i>Tocantins</i></a>\\n</th>\\n<td>36\\n</td>\\n<td><a href=\"/wiki/New_York_City\" title=\"New York City\">New York,<br/>New York</a>\\n</td>\\n<td style=\"background:#cc3366; color:white;\">Bayon\\n</td>\\n<td rowspan=\"2\" style=\"background:#cc3366; color:white;\">Bayon\\n</td>\\n<td>11th voted out<br/>5th jury member\\n</td>\\n<td>Day 29\\n</td></tr>\\n<tr>\\n<th scope=\"row\" style=\"text-align:left;font-weight:normal\"><b><span data-sort-value=\"Anglim, Joe\"><span class=\"vcard\"><span class=\"fn\">Joe Anglim</span></span></span></b><br/><a href=\"/wiki/Survivor:_Worlds_Apart\" title=\"Survivor: Worlds Apart\"><i>Worlds Apart</i></a>\\n</th>\\n<td>26\\n</td>\\n<td><a href=\"/wiki/Scottsdale,_Arizona\" title=\"Scottsdale, Arizona\">Scottsdale,<br/>Arizona</a>\\n</td>\\n<td style=\"background:#009999; color:white;\">Ta Keo\\n</td>\\n<td>12th voted out<br/>6th jury member\\n</td>\\n<td>Day 32\\n</td></tr>\\n<tr>\\n<th scope=\"row\" style=\"text-align:left;font-weight:normal\"><b><span data-sort-value=\"Gomes, Abi-Maria\"><span class=\"vcard\"><span class=\"fn\">Abi-Maria Gomes</span></span></span></b><br/><a href=\"/wiki/Survivor:_Philippines\" title=\"Survivor: Philippines\"><i>Philippines</i></a>\\n</th>\\n<td>35\\n</td>\\n<td><a href=\"/wiki/Los_Angeles\" title=\"Los Angeles\">Los Angeles,<br/>California</a>\\n</td>\\n<td style=\"background:#009999; color:white;\">Ta Keo\\n</td>\\n<td style=\"background:#cc9900;\">Angkor\\n</td>\\n<td style=\"background:#009999; color:white;\">Ta Keo\\n</td>\\n<td>13th voted out<br/>7th jury member\\n</td>\\n<td>Day 35\\n</td></tr>\\n<tr>\\n<th scope=\"row\" style=\"text-align:left;font-weight:normal\"><b><span class=\"nowrap\"><span data-sort-value=\"Kappenberg, Kimmi\"><span class=\"vcard\"><span class=\"fn\">Kimmi Kappenberg</span></span></span></span></b><br/><a href=\"/wiki/Survivor:_The_Australian_Outback\" title=\"Survivor: The Australian Outback\"><i>The Australian Outback</i></a>\\n</th>\\n<td>42\\n</td>\\n<td><a href=\"/wiki/The_Woodlands,_Texas\" title=\"The Woodlands, Texas\"><span class=\"nowrap\">The Woodlands,</span><br/> Texas</a>\\n</td>\\n<td rowspan=\"2\" style=\"background:#cc3366; color:white;\">Bayon\\n</td>\\n<td style=\"background:#cc3366; color:white;\">Bayon\\n</td>\\n<td rowspan=\"3\" style=\"background:#cc3366; color:white;\">Bayon\\n</td>\\n<td>14th voted out<br/>8th jury member\\n</td>\\n<td>Day 36\\n</td></tr>\\n<tr>\\n<th scope=\"row\" style=\"text-align:left;font-weight:normal\"><b><span data-sort-value=\"Nale, Keith\"><span class=\"vcard\"><span class=\"fn\">Keith Nale</span></span></span></b><br/><a href=\"/wiki/Survivor:_San_Juan_del_Sur\" title=\"Survivor: San Juan del Sur\"><i>San Juan del Sur</i></a>\\n</th>\\n<td>54\\n</td>\\n<td><a href=\"/wiki/Keithville,_Louisiana\" title=\"Keithville, Louisiana\">Keithville,<br/>Louisiana</a>\\n</td>\\n<td rowspan=\"2\" style=\"background:#009999; color:white;\">Ta Keo\\n</td>\\n<td>15th voted out<br/>9th jury member\\n</td>\\n<td>Day 37\\n</td></tr>\\n<tr>\\n<th scope=\"row\" style=\"text-align:left;font-weight:normal\"><b><span data-sort-value=\"Wentworth, Kelley\"><span class=\"vcard\"><span class=\"fn\">Kelley Wentworth</span></span></span></b><br/><a href=\"/wiki/Survivor:_San_Juan_del_Sur\" title=\"Survivor: San Juan del Sur\"><i>San Juan del Sur</i></a>\\n</th>\\n<td>29\\n</td>\\n<td><a href=\"/wiki/Seattle\" title=\"Seattle\">Seattle,<br/>Washington</a>\\n</td>\\n<td rowspan=\"2\" style=\"background:#009999; color:white;\">Ta Keo\\n</td>\\n<td>16th voted out<br/><span class=\"nowrap\">10th jury member</span>\\n</td>\\n<td><span class=\"nowrap\">Day 38</span>\\n</td></tr>\\n<tr>\\n<th scope=\"row\" style=\"text-align:left;font-weight:normal\"><b><span data-sort-value=\"Bledsoe, Spencer\"><span class=\"vcard\"><span class=\"fn\">Spencer Bledsoe</span></span></span></b><br/><a href=\"/wiki/Survivor:_Cagayan\" title=\"Survivor: Cagayan\"><i>Cagayan</i></a>\\n</th>\\n<td>23\\n</td>\\n<td><a href=\"/wiki/Chicago\" title=\"Chicago\">Chicago,<br/>Illinois</a>\\n</td>\\n<td style=\"background:#cc3366; color:white;\">Bayon\\n</td>\\n<td style=\"background:#009999; color:white;\">Ta Keo\\n</td>\\n<td rowspan=\"2\">Co-runners-up\\n</td>\\n<td rowspan=\"3\">Day 39\\n</td></tr>\\n<tr>\\n<th scope=\"row\" style=\"text-align:left;font-weight:normal\"><b><span data-sort-value=\"Fox, Tasha\"><span class=\"vcard\"><span class=\"fn\">Tasha Fox</span></span></span></b><br/><a href=\"/wiki/Survivor:_Cagayan\" title=\"Survivor: Cagayan\"><i>Cagayan</i></a>\\n</th>\\n<td>38\\n</td>\\n<td><a href=\"/wiki/St._Louis\" title=\"St. Louis\">St. Louis,<br/>Missouri</a>\\n</td>\\n<td rowspan=\"2\" style=\"background:#cc3366; color:white;\">Bayon\\n</td>\\n<td style=\"background:#cc9900;\">Angkor\\n</td>\\n<td rowspan=\"2\" style=\"background:#cc3366; color:white;\">Bayon\\n</td></tr>\\n<tr>\\n<th scope=\"row\" style=\"text-align:left;font-weight:normal\"><b><span data-sort-value=\"Collins, Jeremy\"><span class=\"vcard\"><span class=\"fn\"><a href=\"/wiki/Jeremy_Collins\" title=\"Jeremy Collins\">Jeremy Collins</a></span></span></span></b><br/><a href=\"/wiki/Survivor:_San_Juan_del_Sur\" title=\"Survivor: San Juan del Sur\"><i>San Juan del Sur</i></a>\\n</th>\\n<td>37\\n</td>\\n<td><a href=\"/wiki/Foxborough,_Massachusetts\" title=\"Foxborough, Massachusetts\">Foxboro,<br/>Massachusetts</a>\\n</td>\\n<td style=\"background:#cc3366; color:white;\">Bayon\\n</td>\\n<td>Sole Survivor\\n</td></tr></tbody></table>'"
      ]
     },
     "execution_count": 436,
     "metadata": {},
     "output_type": "execute_result"
    }
   ],
   "source": [
    "str(cont_table)"
   ]
  },
  {
   "cell_type": "code",
   "execution_count": 398,
   "id": "cea393c1",
   "metadata": {},
   "outputs": [],
   "source": [
    "df = pd.read_html(StringIO(str(cont_table)))\n"
   ]
  },
  {
   "cell_type": "code",
   "execution_count": 399,
   "id": "b0fe9cbb",
   "metadata": {},
   "outputs": [
    {
     "data": {
      "text/html": [
       "<div>\n",
       "<style scoped>\n",
       "    .dataframe tbody tr th:only-of-type {\n",
       "        vertical-align: middle;\n",
       "    }\n",
       "\n",
       "    .dataframe tbody tr th {\n",
       "        vertical-align: top;\n",
       "    }\n",
       "\n",
       "    .dataframe thead tr th {\n",
       "        text-align: left;\n",
       "    }\n",
       "</style>\n",
       "<table border=\"1\" class=\"dataframe\">\n",
       "  <thead>\n",
       "    <tr>\n",
       "      <th></th>\n",
       "      <th>Contestant</th>\n",
       "      <th>Age</th>\n",
       "      <th>From</th>\n",
       "      <th colspan=\"4\" halign=\"left\">Tribe</th>\n",
       "      <th colspan=\"2\" halign=\"left\">Finish</th>\n",
       "    </tr>\n",
       "    <tr>\n",
       "      <th></th>\n",
       "      <th>Contestant</th>\n",
       "      <th>Age</th>\n",
       "      <th>From</th>\n",
       "      <th>Original</th>\n",
       "      <th>Firstswitch</th>\n",
       "      <th>Secondswitch</th>\n",
       "      <th>Merged</th>\n",
       "      <th>Placement</th>\n",
       "      <th>Day</th>\n",
       "    </tr>\n",
       "  </thead>\n",
       "  <tbody>\n",
       "    <tr>\n",
       "      <th>0</th>\n",
       "      <td>Vytas BaskauskasBlood vs. Water</td>\n",
       "      <td>35</td>\n",
       "      <td>Santa Monica,California</td>\n",
       "      <td>Ta Keo</td>\n",
       "      <td>NaN</td>\n",
       "      <td>NaN</td>\n",
       "      <td>NaN</td>\n",
       "      <td>1st voted out</td>\n",
       "      <td>Day 3</td>\n",
       "    </tr>\n",
       "    <tr>\n",
       "      <th>1</th>\n",
       "      <td>Shirin OskooiWorlds Apart</td>\n",
       "      <td>32</td>\n",
       "      <td>San Francisco,California</td>\n",
       "      <td>Ta Keo</td>\n",
       "      <td>NaN</td>\n",
       "      <td>NaN</td>\n",
       "      <td>NaN</td>\n",
       "      <td>2nd voted out</td>\n",
       "      <td>Day 6</td>\n",
       "    </tr>\n",
       "    <tr>\n",
       "      <th>2</th>\n",
       "      <td>Peih-Gee LawChina</td>\n",
       "      <td>37</td>\n",
       "      <td>San Francisco,California</td>\n",
       "      <td>Ta Keo</td>\n",
       "      <td>Angkor</td>\n",
       "      <td>NaN</td>\n",
       "      <td>NaN</td>\n",
       "      <td>3rd voted out</td>\n",
       "      <td>Day 9</td>\n",
       "    </tr>\n",
       "    <tr>\n",
       "      <th>3</th>\n",
       "      <td>Jeff VarnerThe Australian Outback</td>\n",
       "      <td>49</td>\n",
       "      <td>Greensboro,North Carolina</td>\n",
       "      <td>Ta Keo</td>\n",
       "      <td>Angkor</td>\n",
       "      <td>NaN</td>\n",
       "      <td>NaN</td>\n",
       "      <td>4th voted out</td>\n",
       "      <td>Day 11</td>\n",
       "    </tr>\n",
       "    <tr>\n",
       "      <th>4</th>\n",
       "      <td>Monica PadillaSamoa</td>\n",
       "      <td>30</td>\n",
       "      <td>Queens,New York</td>\n",
       "      <td>Bayon</td>\n",
       "      <td>Bayon</td>\n",
       "      <td>NaN</td>\n",
       "      <td>NaN</td>\n",
       "      <td>5th voted out</td>\n",
       "      <td>Day 13</td>\n",
       "    </tr>\n",
       "    <tr>\n",
       "      <th>5</th>\n",
       "      <td>Terry DeitzPanama</td>\n",
       "      <td>55</td>\n",
       "      <td>Simsbury,Connecticut</td>\n",
       "      <td>Ta Keo</td>\n",
       "      <td>Ta Keo</td>\n",
       "      <td>NaN</td>\n",
       "      <td>NaN</td>\n",
       "      <td>Withdrew(Family emergency)</td>\n",
       "      <td>Day 13</td>\n",
       "    </tr>\n",
       "    <tr>\n",
       "      <th>6</th>\n",
       "      <td>Woo HwangCagayan</td>\n",
       "      <td>31</td>\n",
       "      <td>Newport Beach,California</td>\n",
       "      <td>Ta Keo</td>\n",
       "      <td>Angkor</td>\n",
       "      <td>Ta Keo</td>\n",
       "      <td>NaN</td>\n",
       "      <td>6th voted out</td>\n",
       "      <td>Day 16</td>\n",
       "    </tr>\n",
       "    <tr>\n",
       "      <th>7</th>\n",
       "      <td>Kass McQuillenCagayan</td>\n",
       "      <td>43</td>\n",
       "      <td>Tehachapi,California</td>\n",
       "      <td>Bayon</td>\n",
       "      <td>Ta Keo</td>\n",
       "      <td>Ta Keo</td>\n",
       "      <td>Orkun</td>\n",
       "      <td>7th voted out1st jury member</td>\n",
       "      <td>Day 19</td>\n",
       "    </tr>\n",
       "    <tr>\n",
       "      <th>8</th>\n",
       "      <td>Andrew SavagePearl Islands</td>\n",
       "      <td>51</td>\n",
       "      <td>San Jose, California</td>\n",
       "      <td>Bayon</td>\n",
       "      <td>Angkor</td>\n",
       "      <td>Ta Keo</td>\n",
       "      <td>Orkun</td>\n",
       "      <td>8th voted out2nd jury member</td>\n",
       "      <td>Day 21</td>\n",
       "    </tr>\n",
       "    <tr>\n",
       "      <th>9</th>\n",
       "      <td>Kelly WiglesworthBorneo</td>\n",
       "      <td>38</td>\n",
       "      <td>Greensboro,North Carolina</td>\n",
       "      <td>Ta Keo</td>\n",
       "      <td>Bayon</td>\n",
       "      <td>Ta Keo</td>\n",
       "      <td>Orkun</td>\n",
       "      <td>9th voted out3rd jury member</td>\n",
       "      <td>Day 24</td>\n",
       "    </tr>\n",
       "    <tr>\n",
       "      <th>10</th>\n",
       "      <td>Ciera EastinBlood vs. Water</td>\n",
       "      <td>26</td>\n",
       "      <td>Salem,Oregon</td>\n",
       "      <td>Bayon</td>\n",
       "      <td>Ta Keo</td>\n",
       "      <td>Ta Keo</td>\n",
       "      <td>Orkun</td>\n",
       "      <td>10th voted out4th jury member</td>\n",
       "      <td>Day 26</td>\n",
       "    </tr>\n",
       "    <tr>\n",
       "      <th>11</th>\n",
       "      <td>Stephen FishbachTocantins</td>\n",
       "      <td>36</td>\n",
       "      <td>New York,New York</td>\n",
       "      <td>Bayon</td>\n",
       "      <td>Bayon</td>\n",
       "      <td>Bayon</td>\n",
       "      <td>Orkun</td>\n",
       "      <td>11th voted out5th jury member</td>\n",
       "      <td>Day 29</td>\n",
       "    </tr>\n",
       "    <tr>\n",
       "      <th>12</th>\n",
       "      <td>Joe AnglimWorlds Apart</td>\n",
       "      <td>26</td>\n",
       "      <td>Scottsdale,Arizona</td>\n",
       "      <td>Bayon</td>\n",
       "      <td>Ta Keo</td>\n",
       "      <td>Bayon</td>\n",
       "      <td>Orkun</td>\n",
       "      <td>12th voted out6th jury member</td>\n",
       "      <td>Day 32</td>\n",
       "    </tr>\n",
       "    <tr>\n",
       "      <th>13</th>\n",
       "      <td>Abi-Maria GomesPhilippines</td>\n",
       "      <td>35</td>\n",
       "      <td>Los Angeles,California</td>\n",
       "      <td>Ta Keo</td>\n",
       "      <td>Angkor</td>\n",
       "      <td>Ta Keo</td>\n",
       "      <td>Orkun</td>\n",
       "      <td>13th voted out7th jury member</td>\n",
       "      <td>Day 35</td>\n",
       "    </tr>\n",
       "    <tr>\n",
       "      <th>14</th>\n",
       "      <td>Kimmi KappenbergThe Australian Outback</td>\n",
       "      <td>42</td>\n",
       "      <td>The Woodlands, Texas</td>\n",
       "      <td>Bayon</td>\n",
       "      <td>Bayon</td>\n",
       "      <td>Bayon</td>\n",
       "      <td>Orkun</td>\n",
       "      <td>14th voted out8th jury member</td>\n",
       "      <td>Day 36</td>\n",
       "    </tr>\n",
       "    <tr>\n",
       "      <th>15</th>\n",
       "      <td>Keith NaleSan Juan del Sur</td>\n",
       "      <td>54</td>\n",
       "      <td>Keithville,Louisiana</td>\n",
       "      <td>Bayon</td>\n",
       "      <td>Ta Keo</td>\n",
       "      <td>Bayon</td>\n",
       "      <td>Orkun</td>\n",
       "      <td>15th voted out9th jury member</td>\n",
       "      <td>Day 37</td>\n",
       "    </tr>\n",
       "    <tr>\n",
       "      <th>16</th>\n",
       "      <td>Kelley WentworthSan Juan del Sur</td>\n",
       "      <td>29</td>\n",
       "      <td>Seattle,Washington</td>\n",
       "      <td>Ta Keo</td>\n",
       "      <td>Ta Keo</td>\n",
       "      <td>Bayon</td>\n",
       "      <td>Orkun</td>\n",
       "      <td>16th voted out10th jury member</td>\n",
       "      <td>Day 38</td>\n",
       "    </tr>\n",
       "    <tr>\n",
       "      <th>17</th>\n",
       "      <td>Spencer BledsoeCagayan</td>\n",
       "      <td>23</td>\n",
       "      <td>Chicago,Illinois</td>\n",
       "      <td>Ta Keo</td>\n",
       "      <td>Bayon</td>\n",
       "      <td>Ta Keo</td>\n",
       "      <td>Orkun</td>\n",
       "      <td>Co-runners-up</td>\n",
       "      <td>Day 39</td>\n",
       "    </tr>\n",
       "    <tr>\n",
       "      <th>18</th>\n",
       "      <td>Tasha FoxCagayan</td>\n",
       "      <td>38</td>\n",
       "      <td>St. Louis,Missouri</td>\n",
       "      <td>Bayon</td>\n",
       "      <td>Angkor</td>\n",
       "      <td>Bayon</td>\n",
       "      <td>Orkun</td>\n",
       "      <td>Co-runners-up</td>\n",
       "      <td>Day 39</td>\n",
       "    </tr>\n",
       "    <tr>\n",
       "      <th>19</th>\n",
       "      <td>Jeremy CollinsSan Juan del Sur</td>\n",
       "      <td>37</td>\n",
       "      <td>Foxboro,Massachusetts</td>\n",
       "      <td>Bayon</td>\n",
       "      <td>Bayon</td>\n",
       "      <td>Bayon</td>\n",
       "      <td>Orkun</td>\n",
       "      <td>Sole Survivor</td>\n",
       "      <td>Day 39</td>\n",
       "    </tr>\n",
       "  </tbody>\n",
       "</table>\n",
       "</div>"
      ],
      "text/plain": [
       "                                Contestant Age                       From  \\\n",
       "                                Contestant Age                       From   \n",
       "0          Vytas BaskauskasBlood vs. Water  35    Santa Monica,California   \n",
       "1                Shirin OskooiWorlds Apart  32   San Francisco,California   \n",
       "2                        Peih-Gee LawChina  37   San Francisco,California   \n",
       "3        Jeff VarnerThe Australian Outback  49  Greensboro,North Carolina   \n",
       "4                      Monica PadillaSamoa  30            Queens,New York   \n",
       "5                        Terry DeitzPanama  55       Simsbury,Connecticut   \n",
       "6                         Woo HwangCagayan  31   Newport Beach,California   \n",
       "7                    Kass McQuillenCagayan  43       Tehachapi,California   \n",
       "8               Andrew SavagePearl Islands  51       San Jose, California   \n",
       "9                  Kelly WiglesworthBorneo  38  Greensboro,North Carolina   \n",
       "10             Ciera EastinBlood vs. Water  26               Salem,Oregon   \n",
       "11               Stephen FishbachTocantins  36          New York,New York   \n",
       "12                  Joe AnglimWorlds Apart  26         Scottsdale,Arizona   \n",
       "13              Abi-Maria GomesPhilippines  35     Los Angeles,California   \n",
       "14  Kimmi KappenbergThe Australian Outback  42       The Woodlands, Texas   \n",
       "15              Keith NaleSan Juan del Sur  54       Keithville,Louisiana   \n",
       "16        Kelley WentworthSan Juan del Sur  29         Seattle,Washington   \n",
       "17                  Spencer BledsoeCagayan  23           Chicago,Illinois   \n",
       "18                        Tasha FoxCagayan  38         St. Louis,Missouri   \n",
       "19          Jeremy CollinsSan Juan del Sur  37      Foxboro,Massachusetts   \n",
       "\n",
       "      Tribe                                                          Finish  \\\n",
       "   Original Firstswitch Secondswitch Merged                       Placement   \n",
       "0    Ta Keo         NaN          NaN    NaN                   1st voted out   \n",
       "1    Ta Keo         NaN          NaN    NaN                   2nd voted out   \n",
       "2    Ta Keo      Angkor          NaN    NaN                   3rd voted out   \n",
       "3    Ta Keo      Angkor          NaN    NaN                   4th voted out   \n",
       "4     Bayon       Bayon          NaN    NaN                   5th voted out   \n",
       "5    Ta Keo      Ta Keo          NaN    NaN      Withdrew(Family emergency)   \n",
       "6    Ta Keo      Angkor       Ta Keo    NaN                   6th voted out   \n",
       "7     Bayon      Ta Keo       Ta Keo  Orkun    7th voted out1st jury member   \n",
       "8     Bayon      Angkor       Ta Keo  Orkun    8th voted out2nd jury member   \n",
       "9    Ta Keo       Bayon       Ta Keo  Orkun    9th voted out3rd jury member   \n",
       "10    Bayon      Ta Keo       Ta Keo  Orkun   10th voted out4th jury member   \n",
       "11    Bayon       Bayon        Bayon  Orkun   11th voted out5th jury member   \n",
       "12    Bayon      Ta Keo        Bayon  Orkun   12th voted out6th jury member   \n",
       "13   Ta Keo      Angkor       Ta Keo  Orkun   13th voted out7th jury member   \n",
       "14    Bayon       Bayon        Bayon  Orkun   14th voted out8th jury member   \n",
       "15    Bayon      Ta Keo        Bayon  Orkun   15th voted out9th jury member   \n",
       "16   Ta Keo      Ta Keo        Bayon  Orkun  16th voted out10th jury member   \n",
       "17   Ta Keo       Bayon       Ta Keo  Orkun                   Co-runners-up   \n",
       "18    Bayon      Angkor        Bayon  Orkun                   Co-runners-up   \n",
       "19    Bayon       Bayon        Bayon  Orkun                   Sole Survivor   \n",
       "\n",
       "            \n",
       "       Day  \n",
       "0    Day 3  \n",
       "1    Day 6  \n",
       "2    Day 9  \n",
       "3   Day 11  \n",
       "4   Day 13  \n",
       "5   Day 13  \n",
       "6   Day 16  \n",
       "7   Day 19  \n",
       "8   Day 21  \n",
       "9   Day 24  \n",
       "10  Day 26  \n",
       "11  Day 29  \n",
       "12  Day 32  \n",
       "13  Day 35  \n",
       "14  Day 36  \n",
       "15  Day 37  \n",
       "16  Day 38  \n",
       "17  Day 39  \n",
       "18  Day 39  \n",
       "19  Day 39  "
      ]
     },
     "execution_count": 399,
     "metadata": {},
     "output_type": "execute_result"
    }
   ],
   "source": [
    "df_list"
   ]
  },
  {
   "cell_type": "code",
   "execution_count": 349,
   "id": "501fcc5c",
   "metadata": {},
   "outputs": [
    {
     "data": {
      "text/html": [
       "<div>\n",
       "<style scoped>\n",
       "    .dataframe tbody tr th:only-of-type {\n",
       "        vertical-align: middle;\n",
       "    }\n",
       "\n",
       "    .dataframe tbody tr th {\n",
       "        vertical-align: top;\n",
       "    }\n",
       "\n",
       "    .dataframe thead th {\n",
       "        text-align: right;\n",
       "    }\n",
       "</style>\n",
       "<table border=\"1\" class=\"dataframe\">\n",
       "  <thead>\n",
       "    <tr style=\"text-align: right;\">\n",
       "      <th></th>\n",
       "      <th>Contestant</th>\n",
       "      <th>Age</th>\n",
       "      <th>From</th>\n",
       "    </tr>\n",
       "  </thead>\n",
       "  <tbody>\n",
       "    <tr>\n",
       "      <th>15</th>\n",
       "      <td>Lauren O'Connell</td>\n",
       "      <td>21</td>\n",
       "      <td>Waco,Texas</td>\n",
       "    </tr>\n",
       "    <tr>\n",
       "      <th>10</th>\n",
       "      <td>Kelley WentworthSan Juan del Sur &amp; Cambodia</td>\n",
       "      <td>32</td>\n",
       "      <td>Seattle,Washington</td>\n",
       "    </tr>\n",
       "    <tr>\n",
       "      <th>3</th>\n",
       "      <td>Rick Devens(Returned to game)</td>\n",
       "      <td>Rick Devens(Returned to game)</td>\n",
       "      <td>Rick Devens(Returned to game)</td>\n",
       "    </tr>\n",
       "    <tr>\n",
       "      <th>17</th>\n",
       "      <td>Julie Rosenberg</td>\n",
       "      <td>46</td>\n",
       "      <td>New York,New York</td>\n",
       "    </tr>\n",
       "    <tr>\n",
       "      <th>13</th>\n",
       "      <td>Aurora McCreary</td>\n",
       "      <td>32</td>\n",
       "      <td>Orlando,Florida</td>\n",
       "    </tr>\n",
       "    <tr>\n",
       "      <th>1</th>\n",
       "      <td>Keith Sowell</td>\n",
       "      <td>19</td>\n",
       "      <td>Durham,North Carolina</td>\n",
       "    </tr>\n",
       "    <tr>\n",
       "      <th>0</th>\n",
       "      <td>Reem Daly</td>\n",
       "      <td>46</td>\n",
       "      <td>Ashburn,Virginia</td>\n",
       "    </tr>\n",
       "    <tr>\n",
       "      <th>9</th>\n",
       "      <td>David WrightMillennials vs. Gen X</td>\n",
       "      <td>44</td>\n",
       "      <td>Sherman Oaks,California</td>\n",
       "    </tr>\n",
       "    <tr>\n",
       "      <th>19</th>\n",
       "      <td>Chris Underwood</td>\n",
       "      <td>25</td>\n",
       "      <td>Greenville,South Carolina</td>\n",
       "    </tr>\n",
       "    <tr>\n",
       "      <th>2</th>\n",
       "      <td>Chris Underwood(Returned to game)</td>\n",
       "      <td>Chris Underwood(Returned to game)</td>\n",
       "      <td>Chris Underwood(Returned to game)</td>\n",
       "    </tr>\n",
       "    <tr>\n",
       "      <th>4</th>\n",
       "      <td>Aubry BraccoKaôh Rōng &amp; Game Changers</td>\n",
       "      <td>32</td>\n",
       "      <td>Los Angeles,California</td>\n",
       "    </tr>\n",
       "    <tr>\n",
       "      <th>12</th>\n",
       "      <td>Ron Clark</td>\n",
       "      <td>45</td>\n",
       "      <td>Atlanta,Georgia</td>\n",
       "    </tr>\n",
       "    <tr>\n",
       "      <th>8</th>\n",
       "      <td>Julia Carter</td>\n",
       "      <td>25</td>\n",
       "      <td>Bethesda,Maryland</td>\n",
       "    </tr>\n",
       "    <tr>\n",
       "      <th>11</th>\n",
       "      <td>Dan \"Wardog\" DaSilva</td>\n",
       "      <td>38</td>\n",
       "      <td>Los Angeles,California</td>\n",
       "    </tr>\n",
       "    <tr>\n",
       "      <th>6</th>\n",
       "      <td>Joe AnglimWorlds Apart &amp; Cambodia</td>\n",
       "      <td>29</td>\n",
       "      <td>Ogden,Utah</td>\n",
       "    </tr>\n",
       "    <tr>\n",
       "      <th>16</th>\n",
       "      <td>Rick Devens</td>\n",
       "      <td>33</td>\n",
       "      <td>Macon,Georgia</td>\n",
       "    </tr>\n",
       "    <tr>\n",
       "      <th>14</th>\n",
       "      <td>Victoria Baamonde</td>\n",
       "      <td>23</td>\n",
       "      <td>Bronx,New York</td>\n",
       "    </tr>\n",
       "    <tr>\n",
       "      <th>5</th>\n",
       "      <td>Wendy Diaz</td>\n",
       "      <td>25</td>\n",
       "      <td>Bell,California</td>\n",
       "    </tr>\n",
       "    <tr>\n",
       "      <th>18</th>\n",
       "      <td>Gavin Whitson</td>\n",
       "      <td>23</td>\n",
       "      <td>Erwin,Tennessee</td>\n",
       "    </tr>\n",
       "    <tr>\n",
       "      <th>7</th>\n",
       "      <td>Eric Hafemann</td>\n",
       "      <td>34</td>\n",
       "      <td>Livermore,California</td>\n",
       "    </tr>\n",
       "  </tbody>\n",
       "</table>\n",
       "</div>"
      ],
      "text/plain": [
       "                                     Contestant  \\\n",
       "15                             Lauren O'Connell   \n",
       "10  Kelley WentworthSan Juan del Sur & Cambodia   \n",
       "3                 Rick Devens(Returned to game)   \n",
       "17                              Julie Rosenberg   \n",
       "13                              Aurora McCreary   \n",
       "1                                  Keith Sowell   \n",
       "0                                     Reem Daly   \n",
       "9             David WrightMillennials vs. Gen X   \n",
       "19                              Chris Underwood   \n",
       "2             Chris Underwood(Returned to game)   \n",
       "4         Aubry BraccoKaôh Rōng & Game Changers   \n",
       "12                                    Ron Clark   \n",
       "8                                  Julia Carter   \n",
       "11                         Dan \"Wardog\" DaSilva   \n",
       "6             Joe AnglimWorlds Apart & Cambodia   \n",
       "16                                  Rick Devens   \n",
       "14                            Victoria Baamonde   \n",
       "5                                    Wendy Diaz   \n",
       "18                                Gavin Whitson   \n",
       "7                                 Eric Hafemann   \n",
       "\n",
       "                                  Age                               From  \n",
       "15                                 21                         Waco,Texas  \n",
       "10                                 32                 Seattle,Washington  \n",
       "3       Rick Devens(Returned to game)      Rick Devens(Returned to game)  \n",
       "17                                 46                  New York,New York  \n",
       "13                                 32                    Orlando,Florida  \n",
       "1                                  19              Durham,North Carolina  \n",
       "0                                  46                   Ashburn,Virginia  \n",
       "9                                  44            Sherman Oaks,California  \n",
       "19                                 25          Greenville,South Carolina  \n",
       "2   Chris Underwood(Returned to game)  Chris Underwood(Returned to game)  \n",
       "4                                  32             Los Angeles,California  \n",
       "12                                 45                    Atlanta,Georgia  \n",
       "8                                  25                  Bethesda,Maryland  \n",
       "11                                 38             Los Angeles,California  \n",
       "6                                  29                         Ogden,Utah  \n",
       "16                                 33                      Macon,Georgia  \n",
       "14                                 23                     Bronx,New York  \n",
       "5                                  25                    Bell,California  \n",
       "18                                 23                    Erwin,Tennessee  \n",
       "7                                  34               Livermore,California  "
      ]
     },
     "execution_count": 349,
     "metadata": {},
     "output_type": "execute_result"
    }
   ],
   "source": [
    "df_keep = df[['Contestant', 'Age', 'From']]\n",
    "df_keep = df_keep.sample(frac = 1)\n",
    "df_keep"
   ]
  },
  {
   "cell_type": "code",
   "execution_count": 187,
   "id": "58341996",
   "metadata": {},
   "outputs": [],
   "source": [
    "# season_name = driver.find_element(By.XPATH, '/html/body/div[1]/div/div[3]/main/div[2]/div[3]/div[1]/table[2]/tbody/tr[{0}]/td[1]/i'.format(NUM))\n",
    "                                  "
   ]
  },
  {
   "cell_type": "code",
   "execution_count": 188,
   "id": "e39ee238",
   "metadata": {},
   "outputs": [
    {
     "data": {
      "text/plain": [
       "'Borneo'"
      ]
     },
     "execution_count": 188,
     "metadata": {},
     "output_type": "execute_result"
    }
   ],
   "source": [
    "# season_name.text"
   ]
  },
  {
   "cell_type": "code",
   "execution_count": 189,
   "id": "9ccfe97b",
   "metadata": {},
   "outputs": [],
   "source": [
    "# season = driver.find_element(By.XPATH, \"/html/body/div[1]/div/div[3]/main/div[2]/div[3]/div[1]/table[2]/tbody/tr[{0}]/th/a\".format(NUM))\n",
    "# season.click()"
   ]
  },
  {
   "cell_type": "code",
   "execution_count": 190,
   "id": "bd35a99d",
   "metadata": {},
   "outputs": [],
   "source": [
    "# season = driver.find_element(By.XPATH, \"// a[contains(text(),\\'{}')]\".format(NUM))\n",
    "# season.click()"
   ]
  },
  {
   "cell_type": "code",
   "execution_count": 191,
   "id": "14181d16",
   "metadata": {},
   "outputs": [],
   "source": [
    "# req = requests.get(driver.current_url)\n",
    "html = bs(req.content)\n",
    "cont_table = html.find_all(\"table\", {\"class\":'wikitable sortable'})"
   ]
  },
  {
   "cell_type": "code",
   "execution_count": 192,
   "id": "0ddcf3e1",
   "metadata": {},
   "outputs": [],
   "source": [
    "df = pd.read_html(StringIO(str(cont_table[0])))[0]"
   ]
  },
  {
   "cell_type": "code",
   "execution_count": 194,
   "id": "0e8d1149",
   "metadata": {},
   "outputs": [],
   "source": [
    "col_list  = [i + ' ' + j if j != i else i for i,j in df.columns]\n",
    "df.columns=col_list"
   ]
  },
  {
   "cell_type": "code",
   "execution_count": 195,
   "id": "c6e98421",
   "metadata": {},
   "outputs": [],
   "source": [
    "df_keep = df[['Contestant', 'Age', 'From']]\n",
    "df_keep = df_keep.sample(frac = 1)"
   ]
  },
  {
   "cell_type": "code",
   "execution_count": 197,
   "id": "e2bba854",
   "metadata": {},
   "outputs": [
    {
     "data": {
      "text/html": [
       "<div>\n",
       "<style scoped>\n",
       "    .dataframe tbody tr th:only-of-type {\n",
       "        vertical-align: middle;\n",
       "    }\n",
       "\n",
       "    .dataframe tbody tr th {\n",
       "        vertical-align: top;\n",
       "    }\n",
       "\n",
       "    .dataframe thead th {\n",
       "        text-align: right;\n",
       "    }\n",
       "</style>\n",
       "<table border=\"1\" class=\"dataframe\">\n",
       "  <thead>\n",
       "    <tr style=\"text-align: right;\">\n",
       "      <th></th>\n",
       "      <th>Contestant</th>\n",
       "      <th>Age</th>\n",
       "      <th>From</th>\n",
       "    </tr>\n",
       "  </thead>\n",
       "  <tbody>\n",
       "    <tr>\n",
       "      <th>11</th>\n",
       "      <td>Sean Kenniff</td>\n",
       "      <td>30</td>\n",
       "      <td>Carle Place,New York</td>\n",
       "    </tr>\n",
       "    <tr>\n",
       "      <th>10</th>\n",
       "      <td>Colleen Haskell</td>\n",
       "      <td>23</td>\n",
       "      <td>Miami Beach,Florida</td>\n",
       "    </tr>\n",
       "    <tr>\n",
       "      <th>7</th>\n",
       "      <td>Greg Buis</td>\n",
       "      <td>24</td>\n",
       "      <td>Gold Hill,Colorado</td>\n",
       "    </tr>\n",
       "    <tr>\n",
       "      <th>13</th>\n",
       "      <td>Rudy Boesch</td>\n",
       "      <td>72</td>\n",
       "      <td>Virginia Beach,Virginia</td>\n",
       "    </tr>\n",
       "    <tr>\n",
       "      <th>1</th>\n",
       "      <td>B.B. Andersen</td>\n",
       "      <td>64</td>\n",
       "      <td>Mission Hills,Kansas</td>\n",
       "    </tr>\n",
       "    <tr>\n",
       "      <th>4</th>\n",
       "      <td>Dirk Been</td>\n",
       "      <td>23</td>\n",
       "      <td>Spring Green,Wisconsin</td>\n",
       "    </tr>\n",
       "    <tr>\n",
       "      <th>9</th>\n",
       "      <td>Gervase Peterson</td>\n",
       "      <td>30</td>\n",
       "      <td>Willingboro,New Jersey</td>\n",
       "    </tr>\n",
       "    <tr>\n",
       "      <th>2</th>\n",
       "      <td>Stacey Stillman</td>\n",
       "      <td>27</td>\n",
       "      <td>San Francisco,California</td>\n",
       "    </tr>\n",
       "    <tr>\n",
       "      <th>15</th>\n",
       "      <td>Richard Hatch</td>\n",
       "      <td>39</td>\n",
       "      <td>Newport,Rhode Island</td>\n",
       "    </tr>\n",
       "    <tr>\n",
       "      <th>0</th>\n",
       "      <td>Sonja Christopher</td>\n",
       "      <td>63</td>\n",
       "      <td>Walnut Creek,California</td>\n",
       "    </tr>\n",
       "    <tr>\n",
       "      <th>14</th>\n",
       "      <td>Kelly Wiglesworth</td>\n",
       "      <td>22</td>\n",
       "      <td>Kernville,California</td>\n",
       "    </tr>\n",
       "    <tr>\n",
       "      <th>3</th>\n",
       "      <td>Ramona Gray</td>\n",
       "      <td>29</td>\n",
       "      <td>Edison,New Jersey</td>\n",
       "    </tr>\n",
       "    <tr>\n",
       "      <th>8</th>\n",
       "      <td>Jenna Lewis</td>\n",
       "      <td>22</td>\n",
       "      <td>Franklin,New Hampshire</td>\n",
       "    </tr>\n",
       "    <tr>\n",
       "      <th>5</th>\n",
       "      <td>Joel Klug</td>\n",
       "      <td>27</td>\n",
       "      <td>Sherwood,Arkansas</td>\n",
       "    </tr>\n",
       "    <tr>\n",
       "      <th>6</th>\n",
       "      <td>Gretchen Cordy</td>\n",
       "      <td>38</td>\n",
       "      <td>Clarksville,Tennessee</td>\n",
       "    </tr>\n",
       "    <tr>\n",
       "      <th>12</th>\n",
       "      <td>Susan Hawk</td>\n",
       "      <td>38</td>\n",
       "      <td>Palmyra,Wisconsin</td>\n",
       "    </tr>\n",
       "  </tbody>\n",
       "</table>\n",
       "</div>"
      ],
      "text/plain": [
       "           Contestant  Age                      From\n",
       "11       Sean Kenniff   30      Carle Place,New York\n",
       "10    Colleen Haskell   23       Miami Beach,Florida\n",
       "7           Greg Buis   24        Gold Hill,Colorado\n",
       "13        Rudy Boesch   72   Virginia Beach,Virginia\n",
       "1       B.B. Andersen   64      Mission Hills,Kansas\n",
       "4           Dirk Been   23    Spring Green,Wisconsin\n",
       "9    Gervase Peterson   30    Willingboro,New Jersey\n",
       "2     Stacey Stillman   27  San Francisco,California\n",
       "15      Richard Hatch   39      Newport,Rhode Island\n",
       "0   Sonja Christopher   63   Walnut Creek,California\n",
       "14  Kelly Wiglesworth   22      Kernville,California\n",
       "3         Ramona Gray   29         Edison,New Jersey\n",
       "8         Jenna Lewis   22    Franklin,New Hampshire\n",
       "5           Joel Klug   27         Sherwood,Arkansas\n",
       "6      Gretchen Cordy   38     Clarksville,Tennessee\n",
       "12         Susan Hawk   38         Palmyra,Wisconsin"
      ]
     },
     "execution_count": 197,
     "metadata": {},
     "output_type": "execute_result"
    }
   ],
   "source": [
    "df_keep"
   ]
  },
  {
   "cell_type": "code",
   "execution_count": null,
   "id": "be38e787",
   "metadata": {},
   "outputs": [],
   "source": []
  }
 ],
 "metadata": {
  "kernelspec": {
   "display_name": "Python 3",
   "language": "python",
   "name": "python3"
  },
  "language_info": {
   "codemirror_mode": {
    "name": "ipython",
    "version": 3
   },
   "file_extension": ".py",
   "mimetype": "text/x-python",
   "name": "python",
   "nbconvert_exporter": "python",
   "pygments_lexer": "ipython3",
   "version": "3.8.8"
  }
 },
 "nbformat": 4,
 "nbformat_minor": 5
}
